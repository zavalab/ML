{
 "cells": [
  {
   "cell_type": "code",
   "execution_count": 1,
   "metadata": {},
   "outputs": [],
   "source": [
    "import os\n",
    "project_dir = \"c:/Users/sqin34/OneDrive - UW-Madison/Research/solvgnn/\"\n",
    "os.chdir(project_dir)"
   ]
  },
  {
   "cell_type": "code",
   "execution_count": 2,
   "metadata": {},
   "outputs": [],
   "source": [
    "import pandas as pd\n",
    "import numpy as np\n",
    "import matplotlib.pyplot as plt"
   ]
  },
  {
   "cell_type": "code",
   "execution_count": 3,
   "metadata": {},
   "outputs": [],
   "source": [
    "def cum_err(output,n_bin=1000):\n",
    "    output['err1'] = np.abs(output['true_gam1'] - output['pred_gam1'])\n",
    "    output['err2'] = np.abs(output['true_gam2'] - output['pred_gam2'])\n",
    "    output['err'] = (output['err1']+output['err2'])/2\n",
    "    values,base = np.histogram(output['err'],bins=n_bin)\n",
    "    cumulative = np.cumsum(values)/np.sum(values)\n",
    "    return [base,cumulative]"
   ]
  },
  {
   "cell_type": "code",
   "execution_count": 4,
   "metadata": {},
   "outputs": [],
   "source": [
    "saved_model_dir_solvcat_bi = project_dir + \"results/job_220822_solvcat_binary_with_inf_catx_randflip/\"\n",
    "saved_model_dir_solvgcn_bi = project_dir + \"results/job_220814_solvgcn_binary_with_inf_catx/\"\n",
    "saved_model_dir_solvgnn_bi = project_dir + \"results/job_220812_solvgnn_binary_with_inf_catx/\""
   ]
  },
  {
   "cell_type": "code",
   "execution_count": 8,
   "metadata": {},
   "outputs": [
    {
     "name": "stderr",
     "output_type": "stream",
     "text": [
      "c:\\Users\\sqin34\\miniconda3\\envs\\solvgnn\\lib\\site-packages\\IPython\\core\\interactiveshell.py:3457: DtypeWarning: Columns (10,11) have mixed types.Specify dtype option on import or set low_memory=False.\n",
      "  exec(code_obj, self.user_global_ns, self.user_ns)\n"
     ]
    }
   ],
   "source": [
    "solvcat_bi = pd.read_csv(saved_model_dir_solvcat_bi + \"analysis/output_cv.csv\")\n",
    "solvgcn_bi = pd.read_csv(saved_model_dir_solvgcn_bi + \"analysis/output_cv.csv\")\n",
    "solvgnn_bi = pd.read_csv(saved_model_dir_solvgnn_bi + \"analysis/output_cv.csv\")"
   ]
  },
  {
   "cell_type": "code",
   "execution_count": 13,
   "metadata": {},
   "outputs": [],
   "source": [
    "solvgnn_bi[\"err1\"] = np.abs(solvgnn_bi[\"true_gam1\"] - solvgnn_bi[\"pred_gam1\"])\n",
    "solvgnn_bi[\"err2\"] = np.abs(solvgnn_bi[\"true_gam2\"] - solvgnn_bi[\"pred_gam2\"])\n",
    "solvgnn_bi[\"err\"] = (solvgnn_bi[\"err1\"] + solvgnn_bi[\"err2\"])/2"
   ]
  },
  {
   "cell_type": "code",
   "execution_count": 15,
   "metadata": {},
   "outputs": [
    {
     "data": {
      "text/plain": [
       "0.033058485487082005"
      ]
     },
     "execution_count": 15,
     "metadata": {},
     "output_type": "execute_result"
    }
   ],
   "source": [
    "solvgnn_bi.err.mean()"
   ]
  },
  {
   "cell_type": "code",
   "execution_count": 19,
   "metadata": {},
   "outputs": [
    {
     "name": "stdout",
     "output_type": "stream",
     "text": [
      "0.020244487470171102\n",
      "0.030382788966235835\n",
      "0.035961140034454726\n",
      "0.006505692598638435\n"
     ]
    }
   ],
   "source": [
    "mixture_type_err = []\n",
    "for i in range(3):\n",
    "    err = solvgnn_bi[solvgnn_bi.tpsa_binary_avg==i].err.mean()\n",
    "    mixture_type_err.append(err)\n",
    "    print(err)\n",
    "print(np.std(np.array(mixture_type_err)))"
   ]
  },
  {
   "cell_type": "code",
   "execution_count": 20,
   "metadata": {},
   "outputs": [
    {
     "name": "stdout",
     "output_type": "stream",
     "text": [
      "0.03160437473694683\n",
      "0.025367889760511072\n",
      "0.003118242488217878\n"
     ]
    }
   ],
   "source": [
    "conc_type_err = []\n",
    "for i in [(0.1, 0.9), (0.5, 0.5)]:\n",
    "    err = solvgnn_bi[(solvgnn_bi.solv1_x==i[0]) | (solvgnn_bi.solv1_x==i[1])].err.mean()\n",
    "    conc_type_err.append(err)\n",
    "    print(err)\n",
    "print(np.std(np.array(conc_type_err)))"
   ]
  },
  {
   "cell_type": "code",
   "execution_count": 15,
   "metadata": {},
   "outputs": [],
   "source": [
    "labels = ['SolvCAT','SolvGCN','SolvGNN']\n",
    "linestyles = ['dotted','dashed','solid']"
   ]
  },
  {
   "cell_type": "code",
   "execution_count": 16,
   "metadata": {},
   "outputs": [],
   "source": [
    "plt.rcParams.update({\n",
    "    'text.usetex': True,\n",
    "    'font.family':'serif',\n",
    "    'font.serif':['Computer Modern'],\n",
    "    'axes.labelsize':10,\n",
    "    'xtick.labelsize':9,\n",
    "    'ytick.labelsize':9})"
   ]
  },
  {
   "cell_type": "code",
   "execution_count": 18,
   "metadata": {},
   "outputs": [
    {
     "data": {
      "image/png": "[encoded data removed]",
      "text/plain": [
       "<Figure size 216x201.6 with 1 Axes>"
      ]
     },
     "metadata": {
      "needs_background": "light"
     },
     "output_type": "display_data"
    }
   ],
   "source": [
    "fig,ax = plt.subplots(figsize=(3,2.8))\n",
    "ax.grid(color='lightgray',linewidth=0.75,alpha=0.5)\n",
    "gnn_arch = [solvcat_bi,solvgcn_bi,solvgnn_bi]\n",
    "for i,output in enumerate(gnn_arch):\n",
    "    base,cumulative = cum_err(output)\n",
    "    ax.plot(base[:-1],cumulative,label=labels[i],linestyle=linestyles[i],c='black')\n",
    "ax.set_xlim((0,1))\n",
    "ax.set_ylim((0,1))\n",
    "ax.set_xlabel('Average $\\ln\\gamma$ Error')\n",
    "ax.set_ylabel('Cumulative Probability')\n",
    "plt.legend()\n",
    "plt.tight_layout()\n",
    "plt.savefig(saved_model_dir_solvgnn_bi + '/analysis/model_cumfreq_comparison_overlay.svg',pad_inches=0,dpi=400,transparent=True)   "
   ]
  },
  {
   "cell_type": "code",
   "execution_count": null,
   "metadata": {},
   "outputs": [],
   "source": []
  }
 ],
 "metadata": {
  "kernelspec": {
   "display_name": "Python 3.7.4 ('solvgnn')",
   "language": "python",
   "name": "python3"
  },
  "language_info": {
   "codemirror_mode": {
    "name": "ipython",
    "version": 3
   },
   "file_extension": ".py",
   "mimetype": "text/x-python",
   "name": "python",
   "nbconvert_exporter": "python",
   "pygments_lexer": "ipython3",
   "version": "3.7.4"
  },
  "orig_nbformat": 4,
  "vscode": {
   "interpreter": {
    "hash": "7aad10999c46200d989b536a9df0daf0bcc0446519fc8a807bd244d2d61a61df"
   }
  }
 },
 "nbformat": 4,
 "nbformat_minor": 2
}
