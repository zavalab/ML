{
 "cells": [
  {
   "cell_type": "markdown",
   "id": "ab894821",
   "metadata": {},
   "source": [
    "## Preparation"
   ]
  },
  {
   "cell_type": "markdown",
   "id": "11a78e87",
   "metadata": {},
   "source": [
    "#### Import Libraries"
   ]
  },
  {
   "cell_type": "code",
   "execution_count": 1,
   "id": "263f07c3",
   "metadata": {},
   "outputs": [
    {
     "name": "stderr",
     "output_type": "stream",
     "text": [
      "Using backend: pytorch\n"
     ]
    }
   ],
   "source": [
    "import torch\n",
    "import numpy as np\n",
    "import pandas as pd\n",
    "from model_GNN import solvgnn_binary, solvgnn_ternary\n",
    "from generate_dataset import solvent_dataset_binary, solvent_dataset_ternary\n",
    "import matplotlib.pyplot as plt"
   ]
  },
  {
   "cell_type": "markdown",
   "id": "30d8a0c8",
   "metadata": {},
   "source": [
    "#### Update figure parameters"
   ]
  },
  {
   "cell_type": "code",
   "execution_count": 2,
   "id": "3f00848a",
   "metadata": {},
   "outputs": [],
   "source": [
    "plt.rcParams.update({\n",
    "    'text.usetex': True,\n",
    "    'font.family':'serif',\n",
    "    'axes.labelsize':10,\n",
    "    'xtick.labelsize':9,\n",
    "    'ytick.labelsize':9})"
   ]
  },
  {
   "cell_type": "markdown",
   "id": "38594aa0",
   "metadata": {},
   "source": [
    "### P-x-y Example for Binary Mixtures "
   ]
  },
  {
   "cell_type": "markdown",
   "id": "723eb8a6",
   "metadata": {},
   "source": [
    "#### Load trained models"
   ]
  },
  {
   "cell_type": "code",
   "execution_count": 3,
   "id": "c45898dc",
   "metadata": {},
   "outputs": [],
   "source": [
    "model = solvgnn_binary(in_dim=74, hidden_dim=256, n_classes=2).cuda()"
   ]
  },
  {
   "cell_type": "code",
   "execution_count": 4,
   "id": "22ec11ee",
   "metadata": {},
   "outputs": [],
   "source": [
    "cv_param_list = []\n",
    "for cv_id in range(5):\n",
    "    cv_param_list.append('../saved_model/solvgnn_binary_final_model_cv{}.pth'.format(cv_id))"
   ]
  },
  {
   "cell_type": "markdown",
   "id": "a48f301a",
   "metadata": {},
   "source": [
    "#### Initialize dataset class"
   ]
  },
  {
   "cell_type": "code",
   "execution_count": 5,
   "id": "ef9f751a",
   "metadata": {},
   "outputs": [],
   "source": [
    "dataset = solvent_dataset_binary(input_file_path=None)"
   ]
  },
  {
   "cell_type": "markdown",
   "id": "506f3225",
   "metadata": {},
   "source": [
    "#### Enter input information"
   ]
  },
  {
   "cell_type": "code",
   "execution_count": 6,
   "id": "fed737de",
   "metadata": {},
   "outputs": [],
   "source": [
    "solv1_x_range = np.arange(0,1.05,0.05)\n",
    "chemical_list = [\"water\",\"methanol\"]\n",
    "smiles_list = [\"O\",\"CO\"]"
   ]
  },
  {
   "cell_type": "markdown",
   "id": "4702795c",
   "metadata": {},
   "source": [
    "#### Generate phase diagrams"
   ]
  },
  {
   "cell_type": "code",
   "execution_count": 7,
   "id": "12bb3586",
   "metadata": {},
   "outputs": [
    {
     "name": "stdout",
     "output_type": "stream",
     "text": [
      "solv1: water, solv2: methanol\n",
      "temperature: 298.0 K\n",
      "number of data points: 21\n",
      "---start GNN prediction---\n",
      "---finished in 4.52 seconds---\n"
     ]
    },
    {
     "data": {
      "image/png": "[encoded data removed]",
      "text/plain": [
       "<Figure size 216x201.6 with 1 Axes>"
      ]
     },
     "metadata": {
      "needs_background": "light"
     },
     "output_type": "display_data"
    },
    {
     "name": "stdout",
     "output_type": "stream",
     "text": [
      "---overall finished in 5.33 seconds---\n"
     ]
    }
   ],
   "source": [
    "plot_data = dataset.plot_VLE(model,\n",
    "                             chemical_list,\n",
    "                             smiles_list,\n",
    "                             solv1_x_range,\n",
    "                             temperature=298.,\n",
    "                             cp_list=cv_param_list,\n",
    "                             uncertainty=True,\n",
    "                             overlay_with_aspen=False,\n",
    "                             save_figure=False,\n",
    "                             save_data=False,\n",
    "                             aspen_chemical_list=None,\n",
    "                             convert_cosmo=False,\n",
    "                             plot_data_cosmo=None,\n",
    "                             overlay_with_cosmo=False,\n",
    "                             overlay_with_aspen_and_cosmo=False)"
   ]
  },
  {
   "cell_type": "code",
   "execution_count": 8,
   "id": "353fe899",
   "metadata": {},
   "outputs": [
    {
     "data": {
      "text/html": [
       "<div>\n",
       "<style scoped>\n",
       "    .dataframe tbody tr th:only-of-type {\n",
       "        vertical-align: middle;\n",
       "    }\n",
       "\n",
       "    .dataframe tbody tr th {\n",
       "        vertical-align: top;\n",
       "    }\n",
       "\n",
       "    .dataframe thead th {\n",
       "        text-align: right;\n",
       "    }\n",
       "</style>\n",
       "<table border=\"1\" class=\"dataframe\">\n",
       "  <thead>\n",
       "    <tr style=\"text-align: right;\">\n",
       "      <th></th>\n",
       "      <th>solv1_gam</th>\n",
       "      <th>solv1_gam_std</th>\n",
       "      <th>solv2_gam</th>\n",
       "      <th>solv2_gam_std</th>\n",
       "      <th>x1</th>\n",
       "      <th>y1</th>\n",
       "      <th>pressure</th>\n",
       "    </tr>\n",
       "  </thead>\n",
       "  <tbody>\n",
       "    <tr>\n",
       "      <th>0</th>\n",
       "      <td>0.956174</td>\n",
       "      <td>0.223456</td>\n",
       "      <td>0.003854</td>\n",
       "      <td>0.027035</td>\n",
       "      <td>0.00</td>\n",
       "      <td>0.000000</td>\n",
       "      <td>0.168717</td>\n",
       "    </tr>\n",
       "    <tr>\n",
       "      <th>1</th>\n",
       "      <td>0.273201</td>\n",
       "      <td>0.178206</td>\n",
       "      <td>0.012120</td>\n",
       "      <td>0.029926</td>\n",
       "      <td>0.05</td>\n",
       "      <td>0.012600</td>\n",
       "      <td>0.163674</td>\n",
       "    </tr>\n",
       "    <tr>\n",
       "      <th>2</th>\n",
       "      <td>0.352028</td>\n",
       "      <td>0.126270</td>\n",
       "      <td>0.000569</td>\n",
       "      <td>0.014205</td>\n",
       "      <td>0.10</td>\n",
       "      <td>0.028643</td>\n",
       "      <td>0.155810</td>\n",
       "    </tr>\n",
       "    <tr>\n",
       "      <th>3</th>\n",
       "      <td>0.302890</td>\n",
       "      <td>0.136089</td>\n",
       "      <td>-0.001627</td>\n",
       "      <td>0.015204</td>\n",
       "      <td>0.15</td>\n",
       "      <td>0.042774</td>\n",
       "      <td>0.148999</td>\n",
       "    </tr>\n",
       "    <tr>\n",
       "      <th>4</th>\n",
       "      <td>0.231057</td>\n",
       "      <td>0.122786</td>\n",
       "      <td>0.001626</td>\n",
       "      <td>0.015637</td>\n",
       "      <td>0.20</td>\n",
       "      <td>0.055467</td>\n",
       "      <td>0.142582</td>\n",
       "    </tr>\n",
       "  </tbody>\n",
       "</table>\n",
       "</div>"
      ],
      "text/plain": [
       "   solv1_gam  solv1_gam_std  solv2_gam  solv2_gam_std    x1        y1  \\\n",
       "0   0.956174       0.223456   0.003854       0.027035  0.00  0.000000   \n",
       "1   0.273201       0.178206   0.012120       0.029926  0.05  0.012600   \n",
       "2   0.352028       0.126270   0.000569       0.014205  0.10  0.028643   \n",
       "3   0.302890       0.136089  -0.001627       0.015204  0.15  0.042774   \n",
       "4   0.231057       0.122786   0.001626       0.015637  0.20  0.055467   \n",
       "\n",
       "   pressure  \n",
       "0  0.168717  \n",
       "1  0.163674  \n",
       "2  0.155810  \n",
       "3  0.148999  \n",
       "4  0.142582  "
      ]
     },
     "execution_count": 8,
     "metadata": {},
     "output_type": "execute_result"
    }
   ],
   "source": [
    "plot_data.head()"
   ]
  },
  {
   "cell_type": "markdown",
   "id": "ea8e05cc",
   "metadata": {},
   "source": [
    "Activity coefficient predictions $\\gamma_i$ that are close to the bounds, $\\gamma_1(x_1=0)$ and $\\gamma_2(x_2=0)$, usually show high errors. However, since activity coefficients are multiplied by the composition, the effects of these error are extremely low (close to 0). The errors at the extreme conditions are mainly due to the lack of training/validation data for these extreme values. See a detailed discussion in our paper."
   ]
  },
  {
   "cell_type": "markdown",
   "id": "56fb2087",
   "metadata": {},
   "source": [
    "#### Alternatively, you can obtain only the activity coefficient predictions"
   ]
  },
  {
   "cell_type": "code",
   "execution_count": 9,
   "id": "875a22d5",
   "metadata": {},
   "outputs": [
    {
     "data": {
      "image/png": "[encoded data removed]",
      "text/plain": [
       "<Figure size 216x201.6 with 1 Axes>"
      ]
     },
     "metadata": {
      "needs_background": "light"
     },
     "output_type": "display_data"
    }
   ],
   "source": [
    "plot_data = dataset.get_VLE(model,\n",
    "                            chemical_list,\n",
    "                            smiles_list,\n",
    "                            solv1_x_range,\n",
    "                            temperature=298.,\n",
    "                            cp_list=cv_param_list,\n",
    "                            uncertainty=True)\n",
    "dataset.plot_gamma(chemical_list,\n",
    "                  plot_data,\n",
    "                  save_figure=False,\n",
    "                  overlay_with_aspen=False,\n",
    "                  overlay_with_cosmo=False,\n",
    "                  overlay_with_aspen_and_cosmo=False)"
   ]
  },
  {
   "cell_type": "markdown",
   "id": "bb682bfb",
   "metadata": {},
   "source": [
    "### P-x-y Example for Ternary Mixtures"
   ]
  },
  {
   "cell_type": "markdown",
   "id": "89a6dc7f",
   "metadata": {},
   "source": [
    "#### Load trained models"
   ]
  },
  {
   "cell_type": "code",
   "execution_count": 10,
   "id": "ec873e73",
   "metadata": {},
   "outputs": [],
   "source": [
    "model = solvgnn_ternary(in_dim=74, hidden_dim=256, n_classes=3).cuda()"
   ]
  },
  {
   "cell_type": "code",
   "execution_count": 11,
   "id": "c254e2db",
   "metadata": {},
   "outputs": [],
   "source": [
    "cv_param_list = []\n",
    "for cv_id in range(5):\n",
    "    cv_param_list.append('../saved_model/solvgnn_ternary_final_model_cv{}.pth'.format(cv_id))"
   ]
  },
  {
   "cell_type": "markdown",
   "id": "6f336de8",
   "metadata": {},
   "source": [
    "#### Initialize dataset class"
   ]
  },
  {
   "cell_type": "code",
   "execution_count": 12,
   "id": "7a00b030",
   "metadata": {},
   "outputs": [],
   "source": [
    "dataset = solvent_dataset_ternary(input_file_path=None)"
   ]
  },
  {
   "cell_type": "markdown",
   "id": "d066c98e",
   "metadata": {},
   "source": [
    "#### Enter input information"
   ]
  },
  {
   "cell_type": "code",
   "execution_count": 13,
   "id": "dba7e8df",
   "metadata": {},
   "outputs": [],
   "source": [
    "solv1_x_range = np.arange(0,1.05,0.05)\n",
    "chemical_list = [\"water\",\"acetone\",\"methyl isobutyl ketone\"]\n",
    "smiles_list = [\"O\",\"CC(=O)C\",\"CC(C)CC(=O)C\"]"
   ]
  },
  {
   "cell_type": "markdown",
   "id": "967f02e5",
   "metadata": {},
   "source": [
    "#### Generate phase diagrams"
   ]
  },
  {
   "cell_type": "code",
   "execution_count": 14,
   "id": "9cbdde2a",
   "metadata": {},
   "outputs": [
    {
     "name": "stdout",
     "output_type": "stream",
     "text": [
      "solv1: water, solv2: acetone, solv3: methyl isobutyl ketone\n",
      "temperature: 298.0 K\n",
      "---start GNN prediction---\n",
      "number of data points: 231\n",
      "---finished in 48.00 seconds---\n",
      "---start plotting Pxy---\n"
     ]
    },
    {
     "data": {
      "image/png": "[encoded data removed]",
      "text/plain": [
       "<Figure size 288x288 with 2 Axes>"
      ]
     },
     "metadata": {
      "needs_background": "light"
     },
     "output_type": "display_data"
    },
    {
     "name": "stdout",
     "output_type": "stream",
     "text": [
      "---overall finished in 48.21 seconds---\n"
     ]
    }
   ],
   "source": [
    "plot_data = dataset.plot_VLE(model,\n",
    "                             chemical_list,\n",
    "                             smiles_list,\n",
    "                             solv1_x_range=solv1_x_range,\n",
    "                             solv2_x_range=solv1_x_range,\n",
    "                             temperature=298.,\n",
    "                             cp_list=cv_param_list,\n",
    "                             uncertainty=True,\n",
    "                             overlay_with_Aspen=False,\n",
    "                             save_figure=False,\n",
    "                             save_data=False)"
   ]
  },
  {
   "cell_type": "markdown",
   "id": "d7dd8aea",
   "metadata": {},
   "source": [
    "To find the isobaric lines, use the following code:"
   ]
  },
  {
   "cell_type": "code",
   "execution_count": 15,
   "id": "bcd9b874",
   "metadata": {},
   "outputs": [
    {
     "name": "stdout",
     "output_type": "stream",
     "text": [
      "---start plotting Pxy---\n"
     ]
    },
    {
     "data": {
      "image/png": "[encoded data removed]",
      "text/plain": [
       "<Figure size 288x288 with 1 Axes>"
      ]
     },
     "metadata": {},
     "output_type": "display_data"
    },
    {
     "data": {
      "text/plain": [
       "(<Figure size 288x288 with 1 Axes>, TernaryAxesSubplot: -9223371911054606236)"
      ]
     },
     "execution_count": 15,
     "metadata": {},
     "output_type": "execute_result"
    }
   ],
   "source": [
    "dataset.replot_VLE(chemical_list,\n",
    "                   plot_data,\n",
    "                   save_figure=False,\n",
    "                   selected_pressure_list=[0.15,0.2,0.25],\n",
    "                   selected_pressure_buffer=0.03,\n",
    "                   convert_cosmo=False,\n",
    "                   marker_size=20,\n",
    "                   specific_range=False,\n",
    "                   background_pressure=False,\n",
    "                   overlay_with_cosmo=False,\n",
    "                   plot_data_cosmo=None)"
   ]
  },
  {
   "cell_type": "code",
   "execution_count": 16,
   "id": "9c092547",
   "metadata": {},
   "outputs": [
    {
     "data": {
      "text/html": [
       "<div>\n",
       "<style scoped>\n",
       "    .dataframe tbody tr th:only-of-type {\n",
       "        vertical-align: middle;\n",
       "    }\n",
       "\n",
       "    .dataframe tbody tr th {\n",
       "        vertical-align: top;\n",
       "    }\n",
       "\n",
       "    .dataframe thead th {\n",
       "        text-align: right;\n",
       "    }\n",
       "</style>\n",
       "<table border=\"1\" class=\"dataframe\">\n",
       "  <thead>\n",
       "    <tr style=\"text-align: right;\">\n",
       "      <th></th>\n",
       "      <th>solv1_gam</th>\n",
       "      <th>solv1_gam_std</th>\n",
       "      <th>solv2_gam</th>\n",
       "      <th>solv2_gam_std</th>\n",
       "      <th>solv3_gam</th>\n",
       "      <th>solv3_gam_std</th>\n",
       "      <th>x1</th>\n",
       "      <th>x2</th>\n",
       "      <th>x3</th>\n",
       "      <th>y1</th>\n",
       "      <th>y2</th>\n",
       "      <th>y3</th>\n",
       "      <th>pressure</th>\n",
       "    </tr>\n",
       "  </thead>\n",
       "  <tbody>\n",
       "    <tr>\n",
       "      <th>0</th>\n",
       "      <td>1.393540</td>\n",
       "      <td>0.854732</td>\n",
       "      <td>1.250562</td>\n",
       "      <td>0.592257</td>\n",
       "      <td>0.159843</td>\n",
       "      <td>0.021028</td>\n",
       "      <td>0.0</td>\n",
       "      <td>0.00</td>\n",
       "      <td>1.00</td>\n",
       "      <td>0.0</td>\n",
       "      <td>0.000000</td>\n",
       "      <td>1.000000</td>\n",
       "      <td>0.030525</td>\n",
       "    </tr>\n",
       "    <tr>\n",
       "      <th>1</th>\n",
       "      <td>1.597777</td>\n",
       "      <td>0.968529</td>\n",
       "      <td>0.477689</td>\n",
       "      <td>0.136388</td>\n",
       "      <td>0.054907</td>\n",
       "      <td>0.041778</td>\n",
       "      <td>0.0</td>\n",
       "      <td>0.05</td>\n",
       "      <td>0.95</td>\n",
       "      <td>0.0</td>\n",
       "      <td>0.484208</td>\n",
       "      <td>0.515792</td>\n",
       "      <td>0.050621</td>\n",
       "    </tr>\n",
       "    <tr>\n",
       "      <th>2</th>\n",
       "      <td>1.695961</td>\n",
       "      <td>0.923876</td>\n",
       "      <td>0.223359</td>\n",
       "      <td>0.118440</td>\n",
       "      <td>0.053774</td>\n",
       "      <td>0.045592</td>\n",
       "      <td>0.0</td>\n",
       "      <td>0.10</td>\n",
       "      <td>0.90</td>\n",
       "      <td>0.0</td>\n",
       "      <td>0.606071</td>\n",
       "      <td>0.393929</td>\n",
       "      <td>0.062721</td>\n",
       "    </tr>\n",
       "    <tr>\n",
       "      <th>3</th>\n",
       "      <td>1.692513</td>\n",
       "      <td>0.914772</td>\n",
       "      <td>0.184719</td>\n",
       "      <td>0.122674</td>\n",
       "      <td>0.042277</td>\n",
       "      <td>0.047290</td>\n",
       "      <td>0.0</td>\n",
       "      <td>0.15</td>\n",
       "      <td>0.85</td>\n",
       "      <td>0.0</td>\n",
       "      <td>0.703977</td>\n",
       "      <td>0.296023</td>\n",
       "      <td>0.077927</td>\n",
       "    </tr>\n",
       "    <tr>\n",
       "      <th>4</th>\n",
       "      <td>1.687642</td>\n",
       "      <td>0.895426</td>\n",
       "      <td>0.166537</td>\n",
       "      <td>0.112732</td>\n",
       "      <td>0.041417</td>\n",
       "      <td>0.047512</td>\n",
       "      <td>0.0</td>\n",
       "      <td>0.20</td>\n",
       "      <td>0.80</td>\n",
       "      <td>0.0</td>\n",
       "      <td>0.768043</td>\n",
       "      <td>0.231957</td>\n",
       "      <td>0.093519</td>\n",
       "    </tr>\n",
       "  </tbody>\n",
       "</table>\n",
       "</div>"
      ],
      "text/plain": [
       "   solv1_gam  solv1_gam_std  solv2_gam  solv2_gam_std  solv3_gam  \\\n",
       "0   1.393540       0.854732   1.250562       0.592257   0.159843   \n",
       "1   1.597777       0.968529   0.477689       0.136388   0.054907   \n",
       "2   1.695961       0.923876   0.223359       0.118440   0.053774   \n",
       "3   1.692513       0.914772   0.184719       0.122674   0.042277   \n",
       "4   1.687642       0.895426   0.166537       0.112732   0.041417   \n",
       "\n",
       "   solv3_gam_std   x1    x2    x3   y1        y2        y3  pressure  \n",
       "0       0.021028  0.0  0.00  1.00  0.0  0.000000  1.000000  0.030525  \n",
       "1       0.041778  0.0  0.05  0.95  0.0  0.484208  0.515792  0.050621  \n",
       "2       0.045592  0.0  0.10  0.90  0.0  0.606071  0.393929  0.062721  \n",
       "3       0.047290  0.0  0.15  0.85  0.0  0.703977  0.296023  0.077927  \n",
       "4       0.047512  0.0  0.20  0.80  0.0  0.768043  0.231957  0.093519  "
      ]
     },
     "execution_count": 16,
     "metadata": {},
     "output_type": "execute_result"
    }
   ],
   "source": [
    "plot_data.head()"
   ]
  },
  {
   "cell_type": "markdown",
   "id": "3b17e611",
   "metadata": {},
   "source": [
    "Activity coefficient predictions $\\gamma_i$ that are close to the bounds, $\\gamma_1(x_1=0)$, $\\gamma_2(x_2=0)$, and $\\gamma_3(x_3=0)$, usually show high errors. However, since activity coefficients are multiplied by the composition, the effects of these error are extremely low (close to 0). The errors at the extreme conditions are mainly due to the lack of training/validation data for these extreme values. See a detailed discussion in our paper."
   ]
  },
  {
   "cell_type": "markdown",
   "id": "544289be",
   "metadata": {},
   "source": [
    "#### Similar to the binary case above, you can obtain only the activity coefficient predictions"
   ]
  },
  {
   "cell_type": "code",
   "execution_count": 19,
   "id": "e489e035",
   "metadata": {},
   "outputs": [
    {
     "data": {
      "image/png": "[encoded data removed]",
      "text/plain": [
       "<Figure size 216x201.6 with 1 Axes>"
      ]
     },
     "metadata": {
      "needs_background": "light"
     },
     "output_type": "display_data"
    }
   ],
   "source": [
    "subset = plot_data[plot_data[\"x3\"]==0.2]\n",
    "\n",
    "fig,ax = plt.subplots(figsize=(3,2.8))\n",
    "ax.grid(color='lightgray',linewidth=0.75,alpha=0.5)\n",
    "ax.errorbar(subset[\"x1\"].iloc[0],subset[\"solv1_gam\"].iloc[0],yerr=subset[\"solv1_gam_std\"].iloc[0],color=\"black\",fmt=\"x\",markersize=4)\n",
    "ax.errorbar(subset[\"x1\"].iloc[1:],subset[\"solv1_gam\"].iloc[1:],yerr=subset[\"solv1_gam_std\"].iloc[1:],color=\"black\",fmt=\"s\",markersize=4,label=\"SolvGNN $\\gamma_1$\")\n",
    "ax.errorbar(subset[\"x1\"].iloc[:-1],subset[\"solv2_gam\"].iloc[:-1],yerr=subset[\"solv2_gam_std\"].iloc[:-1],color=\"dimgray\",fmt=\"s\",markersize=4)\n",
    "ax.errorbar(subset[\"x1\"].iloc[-1],subset[\"solv2_gam\"].iloc[-1],yerr=subset[\"solv2_gam_std\"].iloc[-1],color=\"dimgray\",fmt=\"x\",markersize=4,label=\"SolvGNN $\\gamma_2$\")\n",
    "ax.errorbar(subset[\"x1\"],subset[\"solv3_gam\"],yerr=subset[\"solv3_gam_std\"],color=\"silver\",fmt=\"s\",markersize=4,label=\"SolvGNN $\\gamma_3$\")\n",
    "ax.set_xlabel(\"$x_1$($x_3=0.2$)\")\n",
    "ax.set_ylabel(\"$\\ln\\gamma_i$\")\n",
    "plt.legend()\n",
    "plt.tight_layout()"
   ]
  },
  {
   "cell_type": "code",
   "execution_count": null,
   "id": "7855b177",
   "metadata": {},
   "outputs": [],
   "source": []
  }
 ],
 "metadata": {
  "kernelspec": {
   "display_name": "Python 3 (ipykernel)",
   "language": "python",
   "name": "python3"
  },
  "language_info": {
   "codemirror_mode": {
    "name": "ipython",
    "version": 3
   },
   "file_extension": ".py",
   "mimetype": "text/x-python",
   "name": "python",
   "nbconvert_exporter": "python",
   "pygments_lexer": "ipython3",
   "version": "3.7.4"
  }
 },
 "nbformat": 4,
 "nbformat_minor": 5
}
