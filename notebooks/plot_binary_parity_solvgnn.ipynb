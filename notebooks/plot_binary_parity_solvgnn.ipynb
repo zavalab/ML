{
 "cells": [
  {
   "cell_type": "code",
   "execution_count": 1,
   "metadata": {},
   "outputs": [],
   "source": [
    "import os\n",
    "project_dir = \"c:/Users/sqin34/OneDrive - UW-Madison/Research/solvgnn/\"\n",
    "os.chdir(project_dir)"
   ]
  },
  {
   "cell_type": "code",
   "execution_count": 2,
   "metadata": {},
   "outputs": [
    {
     "name": "stderr",
     "output_type": "stream",
     "text": [
      "Using backend: pytorch\n"
     ]
    }
   ],
   "source": [
    "import pickle\n",
    "import torch\n",
    "from solvgnn.model.model_GNN import solvgnn_binary, get_n_params\n",
    "from solvgnn.util.generate_dataset import solvent_dataset_binary\n",
    "import numpy as np\n",
    "import pandas as pd\n",
    "from sklearn.metrics import r2_score, mean_absolute_error, mean_squared_error"
   ]
  },
  {
   "cell_type": "code",
   "execution_count": 3,
   "metadata": {},
   "outputs": [],
   "source": [
    "saved_model_dir = project_dir + \"results/job_220811_solvgnn_binary_catx/\""
   ]
  },
  {
   "cell_type": "markdown",
   "metadata": {},
   "source": [
    "Summary statistics"
   ]
  },
  {
   "cell_type": "code",
   "execution_count": 4,
   "metadata": {},
   "outputs": [
    {
     "name": "stdout",
     "output_type": "stream",
     "text": [
      "mean CV MSE loss 0.0059, std CV MSE loss 0.0020\n",
      "best CV fold: 0\n"
     ]
    }
   ],
   "source": [
    "valid_ind_list = np.load(saved_model_dir + 'saved_model/valid_ind_list.npy')\n",
    "valid_loss_list = []\n",
    "for cv_id in range(5):\n",
    "    valid_loss_list.append(np.load(saved_model_dir + 'saved_model/val_loss_cv{}.npy'.format(cv_id))[-1])\n",
    "print(\"mean CV MSE loss {:.4f}, std CV MSE loss {:.4f}\".format(np.mean(valid_loss_list), np.std(valid_loss_list)))\n",
    "best_cv_id = np.argmin(valid_loss_list)\n",
    "print(\"best CV fold: {}\".format(best_cv_id))"
   ]
  },
  {
   "cell_type": "markdown",
   "metadata": {},
   "source": [
    "Load data class"
   ]
  },
  {
   "cell_type": "code",
   "execution_count": 5,
   "metadata": {},
   "outputs": [],
   "source": [
    "dataset_path = project_dir + \"solvgnn/data/output_binary_all.csv\"\n",
    "solvent_list_path = project_dir + 'solvgnn/data/solvent_list.csv'\n",
    "dataset = solvent_dataset_binary(\n",
    "    input_file_path=dataset_path,\n",
    "    solvent_list_path = solvent_list_path,\n",
    "    generate_all=True)"
   ]
  },
  {
   "cell_type": "markdown",
   "metadata": {},
   "source": [
    "Check for permutation invariance"
   ]
  },
  {
   "cell_type": "code",
   "execution_count": 6,
   "metadata": {},
   "outputs": [
    {
     "name": "stdout",
     "output_type": "stream",
     "text": [
      "# model params: 2840641\n"
     ]
    },
    {
     "data": {
      "text/plain": [
       "solvgnn_binary(\n",
       "  (conv1): GraphConv(in=74, out=256, normalization=both, activation=None)\n",
       "  (conv2): GraphConv(in=256, out=256, normalization=both, activation=None)\n",
       "  (global_conv1): MPNNconv(\n",
       "    (project_node_feats): Sequential(\n",
       "      (0): Linear(in_features=257, out_features=256, bias=True)\n",
       "      (1): ReLU()\n",
       "    )\n",
       "    (gnn_layer): NNConv(\n",
       "      (edge_nn): Sequential(\n",
       "        (0): Linear(in_features=1, out_features=32, bias=True)\n",
       "        (1): ReLU()\n",
       "        (2): Linear(in_features=32, out_features=65536, bias=True)\n",
       "      )\n",
       "    )\n",
       "    (gru): GRU(256, 256)\n",
       "  )\n",
       "  (classify1): Linear(in_features=256, out_features=256, bias=True)\n",
       "  (classify2): Linear(in_features=256, out_features=256, bias=True)\n",
       "  (classify3): Linear(in_features=256, out_features=1, bias=True)\n",
       ")"
      ]
     },
     "execution_count": 6,
     "metadata": {},
     "output_type": "execute_result"
    }
   ],
   "source": [
    "cv_id = 0\n",
    "valid_ind = valid_ind_list[cv_id]\n",
    "empty_solvsys = dataset.generate_solvsys(batch_size=1)\n",
    "model = solvgnn_binary(in_dim=74, hidden_dim=256, n_classes=1).cuda()\n",
    "checkpoint = torch.load(saved_model_dir + 'saved_model/final_model_cv{}.pth'.format(cv_id))\n",
    "print(\"# model params: {}\".format(get_n_params(model)))\n",
    "model.load_state_dict(checkpoint['model_state_dict'])\n",
    "model.eval()"
   ]
  },
  {
   "cell_type": "code",
   "execution_count": 7,
   "metadata": {},
   "outputs": [
    {
     "name": "stdout",
     "output_type": "stream",
     "text": [
      "[0.00479102 0.638294  ]\n"
     ]
    }
   ],
   "source": [
    "chemical_list = [\"alcohol\", \"water\"]\n",
    "smiles_list = [\"CCCO\", \"O\"]\n",
    "solv1_x = 0.9\n",
    "pred = dataset.predict_new(model,chemical_list,smiles_list,solv1_x,gamma_list=None)\n",
    "print(pred)"
   ]
  },
  {
   "cell_type": "code",
   "execution_count": 8,
   "metadata": {},
   "outputs": [
    {
     "name": "stdout",
     "output_type": "stream",
     "text": [
      "[0.6382939  0.00479103]\n"
     ]
    }
   ],
   "source": [
    "chemical_list = [\"water\", \"alcohol\"]\n",
    "smiles_list = [\"O\", \"CCCO\"]\n",
    "solv1_x = 0.1\n",
    "pred = dataset.predict_new(model,chemical_list,smiles_list,solv1_x,gamma_list=None)\n",
    "print(pred)"
   ]
  },
  {
   "cell_type": "markdown",
   "metadata": {},
   "source": [
    "Inference individual CV samples and save for further analysis"
   ]
  },
  {
   "cell_type": "code",
   "execution_count": 60,
   "metadata": {},
   "outputs": [],
   "source": [
    "idx_all = []\n",
    "true_gam1_all, true_gam2_all = [], []\n",
    "pred_gam1_all, pred_gam2_all = [], []\n",
    "intra_hb1_all, intra_hb2_all = [], []\n",
    "inter_hb_all = []\n",
    "solv1_x_all = []"
   ]
  },
  {
   "cell_type": "code",
   "execution_count": 8,
   "metadata": {},
   "outputs": [
    {
     "name": "stdout",
     "output_type": "stream",
     "text": [
      "Analayzing CV 1\n",
      "500 out of 40000 done!\n",
      "1000 out of 40000 done!\n",
      "1500 out of 40000 done!\n",
      "2000 out of 40000 done!\n",
      "2500 out of 40000 done!\n",
      "3000 out of 40000 done!\n",
      "3500 out of 40000 done!\n",
      "4000 out of 40000 done!\n",
      "4500 out of 40000 done!\n",
      "5000 out of 40000 done!\n",
      "5500 out of 40000 done!\n",
      "6000 out of 40000 done!\n",
      "6500 out of 40000 done!\n",
      "7000 out of 40000 done!\n",
      "7500 out of 40000 done!\n",
      "8000 out of 40000 done!\n",
      "8500 out of 40000 done!\n",
      "9000 out of 40000 done!\n",
      "9500 out of 40000 done!\n",
      "10000 out of 40000 done!\n",
      "10500 out of 40000 done!\n",
      "11000 out of 40000 done!\n",
      "11500 out of 40000 done!\n",
      "12000 out of 40000 done!\n",
      "12500 out of 40000 done!\n",
      "13000 out of 40000 done!\n",
      "13500 out of 40000 done!\n",
      "14000 out of 40000 done!\n",
      "14500 out of 40000 done!\n",
      "15000 out of 40000 done!\n",
      "15500 out of 40000 done!\n",
      "16000 out of 40000 done!\n",
      "16500 out of 40000 done!\n",
      "17000 out of 40000 done!\n",
      "17500 out of 40000 done!\n",
      "18000 out of 40000 done!\n",
      "18500 out of 40000 done!\n",
      "19000 out of 40000 done!\n",
      "19500 out of 40000 done!\n",
      "20000 out of 40000 done!\n",
      "20500 out of 40000 done!\n",
      "21000 out of 40000 done!\n",
      "21500 out of 40000 done!\n",
      "22000 out of 40000 done!\n",
      "22500 out of 40000 done!\n",
      "23000 out of 40000 done!\n",
      "23500 out of 40000 done!\n",
      "24000 out of 40000 done!\n",
      "24500 out of 40000 done!\n",
      "25000 out of 40000 done!\n",
      "25500 out of 40000 done!\n",
      "26000 out of 40000 done!\n",
      "26500 out of 40000 done!\n",
      "27000 out of 40000 done!\n",
      "27500 out of 40000 done!\n",
      "28000 out of 40000 done!\n",
      "28500 out of 40000 done!\n",
      "29000 out of 40000 done!\n",
      "29500 out of 40000 done!\n",
      "30000 out of 40000 done!\n",
      "30500 out of 40000 done!\n",
      "31000 out of 40000 done!\n",
      "31500 out of 40000 done!\n",
      "32000 out of 40000 done!\n",
      "32500 out of 40000 done!\n",
      "33000 out of 40000 done!\n",
      "33500 out of 40000 done!\n",
      "34000 out of 40000 done!\n",
      "34500 out of 40000 done!\n",
      "35000 out of 40000 done!\n",
      "35500 out of 40000 done!\n",
      "36000 out of 40000 done!\n",
      "36500 out of 40000 done!\n",
      "37000 out of 40000 done!\n",
      "37500 out of 40000 done!\n",
      "38000 out of 40000 done!\n",
      "38500 out of 40000 done!\n",
      "39000 out of 40000 done!\n",
      "39500 out of 40000 done!\n",
      "40000 out of 40000 done!\n",
      "Analayzing CV 2\n",
      "500 out of 40000 done!\n",
      "1000 out of 40000 done!\n",
      "1500 out of 40000 done!\n",
      "2000 out of 40000 done!\n",
      "2500 out of 40000 done!\n",
      "3000 out of 40000 done!\n",
      "3500 out of 40000 done!\n",
      "4000 out of 40000 done!\n",
      "4500 out of 40000 done!\n",
      "5000 out of 40000 done!\n",
      "5500 out of 40000 done!\n",
      "6000 out of 40000 done!\n",
      "6500 out of 40000 done!\n",
      "7000 out of 40000 done!\n",
      "7500 out of 40000 done!\n",
      "8000 out of 40000 done!\n",
      "8500 out of 40000 done!\n",
      "9000 out of 40000 done!\n",
      "9500 out of 40000 done!\n",
      "10000 out of 40000 done!\n",
      "10500 out of 40000 done!\n",
      "11000 out of 40000 done!\n",
      "11500 out of 40000 done!\n",
      "12000 out of 40000 done!\n",
      "12500 out of 40000 done!\n",
      "13000 out of 40000 done!\n",
      "13500 out of 40000 done!\n",
      "14000 out of 40000 done!\n",
      "14500 out of 40000 done!\n",
      "15000 out of 40000 done!\n",
      "15500 out of 40000 done!\n",
      "16000 out of 40000 done!\n",
      "16500 out of 40000 done!\n",
      "17000 out of 40000 done!\n",
      "17500 out of 40000 done!\n",
      "18000 out of 40000 done!\n",
      "18500 out of 40000 done!\n",
      "19000 out of 40000 done!\n",
      "19500 out of 40000 done!\n",
      "20000 out of 40000 done!\n",
      "20500 out of 40000 done!\n",
      "21000 out of 40000 done!\n",
      "21500 out of 40000 done!\n",
      "22000 out of 40000 done!\n",
      "22500 out of 40000 done!\n",
      "23000 out of 40000 done!\n",
      "23500 out of 40000 done!\n",
      "24000 out of 40000 done!\n",
      "24500 out of 40000 done!\n",
      "25000 out of 40000 done!\n",
      "25500 out of 40000 done!\n",
      "26000 out of 40000 done!\n",
      "26500 out of 40000 done!\n",
      "27000 out of 40000 done!\n",
      "27500 out of 40000 done!\n",
      "28000 out of 40000 done!\n",
      "28500 out of 40000 done!\n",
      "29000 out of 40000 done!\n",
      "29500 out of 40000 done!\n",
      "30000 out of 40000 done!\n",
      "30500 out of 40000 done!\n",
      "31000 out of 40000 done!\n",
      "31500 out of 40000 done!\n",
      "32000 out of 40000 done!\n",
      "32500 out of 40000 done!\n",
      "33000 out of 40000 done!\n",
      "33500 out of 40000 done!\n",
      "34000 out of 40000 done!\n",
      "34500 out of 40000 done!\n",
      "35000 out of 40000 done!\n",
      "35500 out of 40000 done!\n",
      "36000 out of 40000 done!\n",
      "36500 out of 40000 done!\n",
      "37000 out of 40000 done!\n",
      "37500 out of 40000 done!\n",
      "38000 out of 40000 done!\n",
      "38500 out of 40000 done!\n",
      "39000 out of 40000 done!\n",
      "39500 out of 40000 done!\n",
      "40000 out of 40000 done!\n",
      "Analayzing CV 3\n",
      "500 out of 40000 done!\n",
      "1000 out of 40000 done!\n",
      "1500 out of 40000 done!\n",
      "2000 out of 40000 done!\n",
      "2500 out of 40000 done!\n",
      "3000 out of 40000 done!\n",
      "3500 out of 40000 done!\n",
      "4000 out of 40000 done!\n",
      "4500 out of 40000 done!\n",
      "5000 out of 40000 done!\n",
      "5500 out of 40000 done!\n",
      "6000 out of 40000 done!\n",
      "6500 out of 40000 done!\n",
      "7000 out of 40000 done!\n",
      "7500 out of 40000 done!\n",
      "8000 out of 40000 done!\n",
      "8500 out of 40000 done!\n",
      "9000 out of 40000 done!\n",
      "9500 out of 40000 done!\n",
      "10000 out of 40000 done!\n",
      "10500 out of 40000 done!\n",
      "11000 out of 40000 done!\n",
      "11500 out of 40000 done!\n",
      "12000 out of 40000 done!\n",
      "12500 out of 40000 done!\n",
      "13000 out of 40000 done!\n",
      "13500 out of 40000 done!\n",
      "14000 out of 40000 done!\n",
      "14500 out of 40000 done!\n",
      "15000 out of 40000 done!\n",
      "15500 out of 40000 done!\n",
      "16000 out of 40000 done!\n",
      "16500 out of 40000 done!\n",
      "17000 out of 40000 done!\n",
      "17500 out of 40000 done!\n",
      "18000 out of 40000 done!\n",
      "18500 out of 40000 done!\n",
      "19000 out of 40000 done!\n",
      "19500 out of 40000 done!\n",
      "20000 out of 40000 done!\n",
      "20500 out of 40000 done!\n",
      "21000 out of 40000 done!\n",
      "21500 out of 40000 done!\n",
      "22000 out of 40000 done!\n",
      "22500 out of 40000 done!\n",
      "23000 out of 40000 done!\n",
      "23500 out of 40000 done!\n",
      "24000 out of 40000 done!\n",
      "24500 out of 40000 done!\n",
      "25000 out of 40000 done!\n",
      "25500 out of 40000 done!\n",
      "26000 out of 40000 done!\n",
      "26500 out of 40000 done!\n",
      "27000 out of 40000 done!\n",
      "27500 out of 40000 done!\n",
      "28000 out of 40000 done!\n",
      "28500 out of 40000 done!\n",
      "29000 out of 40000 done!\n",
      "29500 out of 40000 done!\n",
      "30000 out of 40000 done!\n",
      "30500 out of 40000 done!\n",
      "31000 out of 40000 done!\n",
      "31500 out of 40000 done!\n",
      "32000 out of 40000 done!\n",
      "32500 out of 40000 done!\n",
      "33000 out of 40000 done!\n",
      "33500 out of 40000 done!\n",
      "34000 out of 40000 done!\n",
      "34500 out of 40000 done!\n",
      "35000 out of 40000 done!\n",
      "35500 out of 40000 done!\n",
      "36000 out of 40000 done!\n",
      "36500 out of 40000 done!\n",
      "37000 out of 40000 done!\n",
      "37500 out of 40000 done!\n",
      "38000 out of 40000 done!\n",
      "38500 out of 40000 done!\n",
      "39000 out of 40000 done!\n",
      "39500 out of 40000 done!\n",
      "40000 out of 40000 done!\n",
      "Analayzing CV 4\n",
      "500 out of 40000 done!\n",
      "1000 out of 40000 done!\n",
      "1500 out of 40000 done!\n",
      "2000 out of 40000 done!\n",
      "2500 out of 40000 done!\n",
      "3000 out of 40000 done!\n",
      "3500 out of 40000 done!\n",
      "4000 out of 40000 done!\n",
      "4500 out of 40000 done!\n",
      "5000 out of 40000 done!\n",
      "5500 out of 40000 done!\n",
      "6000 out of 40000 done!\n",
      "6500 out of 40000 done!\n",
      "7000 out of 40000 done!\n",
      "7500 out of 40000 done!\n",
      "8000 out of 40000 done!\n",
      "8500 out of 40000 done!\n",
      "9000 out of 40000 done!\n",
      "9500 out of 40000 done!\n",
      "10000 out of 40000 done!\n",
      "10500 out of 40000 done!\n",
      "11000 out of 40000 done!\n",
      "11500 out of 40000 done!\n",
      "12000 out of 40000 done!\n",
      "12500 out of 40000 done!\n",
      "13000 out of 40000 done!\n",
      "13500 out of 40000 done!\n",
      "14000 out of 40000 done!\n",
      "14500 out of 40000 done!\n",
      "15000 out of 40000 done!\n",
      "15500 out of 40000 done!\n",
      "16000 out of 40000 done!\n",
      "16500 out of 40000 done!\n",
      "17000 out of 40000 done!\n",
      "17500 out of 40000 done!\n",
      "18000 out of 40000 done!\n",
      "18500 out of 40000 done!\n",
      "19000 out of 40000 done!\n",
      "19500 out of 40000 done!\n",
      "20000 out of 40000 done!\n",
      "20500 out of 40000 done!\n",
      "21000 out of 40000 done!\n",
      "21500 out of 40000 done!\n",
      "22000 out of 40000 done!\n",
      "22500 out of 40000 done!\n",
      "23000 out of 40000 done!\n",
      "23500 out of 40000 done!\n",
      "24000 out of 40000 done!\n",
      "24500 out of 40000 done!\n",
      "25000 out of 40000 done!\n",
      "25500 out of 40000 done!\n",
      "26000 out of 40000 done!\n",
      "26500 out of 40000 done!\n",
      "27000 out of 40000 done!\n",
      "27500 out of 40000 done!\n",
      "28000 out of 40000 done!\n",
      "28500 out of 40000 done!\n",
      "29000 out of 40000 done!\n",
      "29500 out of 40000 done!\n",
      "30000 out of 40000 done!\n",
      "30500 out of 40000 done!\n",
      "31000 out of 40000 done!\n",
      "31500 out of 40000 done!\n",
      "32000 out of 40000 done!\n",
      "32500 out of 40000 done!\n",
      "33000 out of 40000 done!\n",
      "33500 out of 40000 done!\n",
      "34000 out of 40000 done!\n",
      "34500 out of 40000 done!\n",
      "35000 out of 40000 done!\n",
      "35500 out of 40000 done!\n",
      "36000 out of 40000 done!\n",
      "36500 out of 40000 done!\n",
      "37000 out of 40000 done!\n",
      "37500 out of 40000 done!\n",
      "38000 out of 40000 done!\n",
      "38500 out of 40000 done!\n",
      "39000 out of 40000 done!\n",
      "39500 out of 40000 done!\n",
      "40000 out of 40000 done!\n",
      "Analayzing CV 5\n",
      "500 out of 40000 done!\n",
      "1000 out of 40000 done!\n",
      "1500 out of 40000 done!\n",
      "2000 out of 40000 done!\n",
      "2500 out of 40000 done!\n",
      "3000 out of 40000 done!\n",
      "3500 out of 40000 done!\n",
      "4000 out of 40000 done!\n",
      "4500 out of 40000 done!\n",
      "5000 out of 40000 done!\n",
      "5500 out of 40000 done!\n",
      "6000 out of 40000 done!\n",
      "6500 out of 40000 done!\n",
      "7000 out of 40000 done!\n",
      "7500 out of 40000 done!\n",
      "8000 out of 40000 done!\n",
      "8500 out of 40000 done!\n",
      "9000 out of 40000 done!\n",
      "9500 out of 40000 done!\n",
      "10000 out of 40000 done!\n",
      "10500 out of 40000 done!\n",
      "11000 out of 40000 done!\n",
      "11500 out of 40000 done!\n",
      "12000 out of 40000 done!\n",
      "12500 out of 40000 done!\n",
      "13000 out of 40000 done!\n",
      "13500 out of 40000 done!\n",
      "14000 out of 40000 done!\n",
      "14500 out of 40000 done!\n",
      "15000 out of 40000 done!\n",
      "15500 out of 40000 done!\n",
      "16000 out of 40000 done!\n",
      "16500 out of 40000 done!\n",
      "17000 out of 40000 done!\n",
      "17500 out of 40000 done!\n",
      "18000 out of 40000 done!\n",
      "18500 out of 40000 done!\n",
      "19000 out of 40000 done!\n",
      "19500 out of 40000 done!\n",
      "20000 out of 40000 done!\n",
      "20500 out of 40000 done!\n",
      "21000 out of 40000 done!\n",
      "21500 out of 40000 done!\n",
      "22000 out of 40000 done!\n",
      "22500 out of 40000 done!\n",
      "23000 out of 40000 done!\n",
      "23500 out of 40000 done!\n",
      "24000 out of 40000 done!\n",
      "24500 out of 40000 done!\n",
      "25000 out of 40000 done!\n",
      "25500 out of 40000 done!\n",
      "26000 out of 40000 done!\n",
      "26500 out of 40000 done!\n",
      "27000 out of 40000 done!\n",
      "27500 out of 40000 done!\n",
      "28000 out of 40000 done!\n",
      "28500 out of 40000 done!\n",
      "29000 out of 40000 done!\n",
      "29500 out of 40000 done!\n",
      "30000 out of 40000 done!\n",
      "30500 out of 40000 done!\n",
      "31000 out of 40000 done!\n",
      "31500 out of 40000 done!\n",
      "32000 out of 40000 done!\n",
      "32500 out of 40000 done!\n",
      "33000 out of 40000 done!\n",
      "33500 out of 40000 done!\n",
      "34000 out of 40000 done!\n",
      "34500 out of 40000 done!\n",
      "35000 out of 40000 done!\n",
      "35500 out of 40000 done!\n",
      "36000 out of 40000 done!\n",
      "36500 out of 40000 done!\n",
      "37000 out of 40000 done!\n",
      "37500 out of 40000 done!\n",
      "38000 out of 40000 done!\n",
      "38500 out of 40000 done!\n",
      "39000 out of 40000 done!\n",
      "39500 out of 40000 done!\n",
      "40000 out of 40000 done!\n"
     ]
    }
   ],
   "source": [
    "for cv_id in range(5):\n",
    "    print('Analayzing CV {}'.format(cv_id+1))\n",
    "    valid_ind = valid_ind_list[cv_id]\n",
    "    empty_solvsys = dataset.generate_solvsys(batch_size=1)\n",
    "    model = solvgnn_binary(in_dim=74, hidden_dim=256, n_classes=1).cuda()\n",
    "    checkpoint = torch.load(saved_model_dir + 'saved_model/final_model_cv{}.pth'.format(cv_id))\n",
    "    model.load_state_dict(checkpoint['model_state_dict'])\n",
    "    model.eval()\n",
    "    for count,idx in enumerate(valid_ind):\n",
    "        idx_all.append(idx)\n",
    "        solv1_x_all.append(dataset[idx]['solv1_x'])\n",
    "        intra_hb1_all.append(dataset[idx]['intra_hb1'])\n",
    "        intra_hb2_all.append(dataset[idx]['intra_hb2'])\n",
    "        inter_hb_all.append(dataset[idx]['inter_hb'])\n",
    "        true,pred = dataset.predict(idx,model,empty_solvsys)\n",
    "        pred_gam1_all.append(pred[0])\n",
    "        pred_gam2_all.append(pred[1])\n",
    "        true_gam1_all.append(true[0])\n",
    "        true_gam2_all.append(true[1])\n",
    "        if (count+1) % 500 == 0:\n",
    "            print('{} out of {} done!'.format(count+1,len(valid_ind)))"
   ]
  },
  {
   "cell_type": "code",
   "execution_count": 12,
   "metadata": {},
   "outputs": [],
   "source": [
    "output_cv = pd.DataFrame({'idx':np.array(idx_all),\n",
    "                          'true_gam1':np.array(true_gam1_all),\n",
    "                          'pred_gam1':np.array(pred_gam1_all),\n",
    "                          'true_gam2':np.array(true_gam2_all),\n",
    "                          'pred_gam2':np.array(pred_gam2_all),\n",
    "                          'solv1_x':np.array(solv1_x_all),\n",
    "                          'intra_hb1':np.array(intra_hb1_all),\n",
    "                          'intra_hb2':np.array(intra_hb2_all),\n",
    "                          'inter_hb':np.array(inter_hb_all)                 \n",
    "                          })"
   ]
  },
  {
   "cell_type": "code",
   "execution_count": 45,
   "metadata": {},
   "outputs": [],
   "source": [
    "output_cv = output_cv.sort_values(by=\"idx\").reset_index(drop=True)\n",
    "raw_data = pd.read_csv(dataset_path)\n",
    "raw_data = raw_data.rename(columns={\"solv1_x\": \"solv1_x_input\"})\n",
    "output_cv = pd.concat([raw_data, output_cv], axis=1)\n",
    "output_cv.to_csv(saved_model_dir + 'analysis/output_cv.csv',index=False)"
   ]
  },
  {
   "cell_type": "code",
   "execution_count": 11,
   "metadata": {},
   "outputs": [],
   "source": [
    "import matplotlib\n",
    "import matplotlib.pyplot as plt\n",
    "\n",
    "plt.rcParams.update({\n",
    "    'text.usetex': True,\n",
    "    'font.family':'serif',\n",
    "    'font.serif':['Computer Modern'],\n",
    "    'axes.labelsize':10,\n",
    "    'xtick.labelsize':9,\n",
    "    'ytick.labelsize':9})"
   ]
  },
  {
   "cell_type": "code",
   "execution_count": 18,
   "metadata": {},
   "outputs": [
    {
     "data": {
      "image/png": "[encoded data removed]",
      "text/plain": [
       "<Figure size 216x216 with 1 Axes>"
      ]
     },
     "metadata": {
      "needs_background": "light"
     },
     "output_type": "display_data"
    }
   ],
   "source": [
    "xmin = -33\n",
    "xmax = 13\n",
    "color_list = matplotlib.cm.get_cmap('tab10')\n",
    "labels = [\"nonpolar-nonpolar\",\"polar-nonpolar\",\"polar-polar\"]\n",
    "output_cv = pd.read_csv(saved_model_dir + 'analysis/output_cv.csv')\n",
    "output_cv = pd.concat(\n",
    "    (\n",
    "        output_cv[[\"true_gam1\", \"pred_gam1\", \"tpsa_binary_avg\"]]\n",
    "        .rename(columns={\n",
    "            \"true_gam1\": \"true_gam\",\n",
    "            \"pred_gam1\": \"pred_gam\"}),\n",
    "        output_cv[[\"true_gam2\", \"pred_gam2\", \"tpsa_binary_avg\"]]\n",
    "        .rename(columns={\n",
    "            \"true_gam2\": \"true_gam\",\n",
    "            \"pred_gam2\": \"pred_gam\"})\n",
    "    ))\n",
    "output_cv = output_cv.sort_values(by=\"tpsa_binary_avg\",ascending=False)\n",
    "fig,ax = plt.subplots(figsize=(3,3))\n",
    "ax.grid(color='lightgray',linewidth=0.75,alpha=0.5)\n",
    "ax.plot([xmin, xmax], \n",
    "           [xmin, xmax], color='black',linestyle='--', lw=1)\n",
    "ax.scatter(output_cv['true_gam'],output_cv['pred_gam'],c=color_list(output_cv['tpsa_binary_avg']),s=6,alpha=0.7)\n",
    "ax.set_xticks(np.arange(-30, 20, 10))\n",
    "ax.set_xlabel('True $\\ln\\gamma_i$')\n",
    "ax.set_ylabel('Predicted $\\ln\\gamma_i$')\n",
    "ax.set_title('$R^2$={:.2f},MAE={:.3f},RMSE={:.3f}'.format(r2_score(output_cv['true_gam'],output_cv['pred_gam']),\n",
    "                                                  mean_absolute_error(output_cv['true_gam'],output_cv['pred_gam']),\n",
    "                                                  np.sqrt(mean_squared_error(output_cv['true_gam'],output_cv['pred_gam']))))\n",
    "\n",
    "# ax[1].grid(color='lightgray',linewidth=0.75,alpha=0.5)\n",
    "# ax[1].plot([xmin, xmax], \n",
    "#            [xmin, xmax], color='black',linestyle='--', lw=1)\n",
    "# ax[1].scatter(output_cv['true_gam2'],output_cv['pred_gam2'],c=color_list(output_cv['tpsa_binary_avg']),s=6,alpha=0.7)\n",
    "# ax[1].set_xlabel('True $\\ln\\gamma_2$')\n",
    "# ax[1].set_ylabel('Predicted $\\ln\\gamma_2$')\n",
    "\n",
    "# ax[1].set_title('$R^2$={:.2f},MAE={:.3f},RMSE={:.3f}'.format(r2_score(output_cv['true_gam2'],output_cv['pred_gam2']),\n",
    "#                                                   mean_absolute_error(output_cv['true_gam2'],output_cv['pred_gam2']),\n",
    "#                                                   np.sqrt(mean_squared_error(output_cv['true_gam2'],output_cv['pred_gam2']))))\n",
    "plt.tight_layout()\n",
    "plt.savefig(saved_model_dir + 'analysis/cv_parity.png',pad_inches=0,dpi=400,transparent=True)   "
   ]
  },
  {
   "cell_type": "code",
   "execution_count": 28,
   "metadata": {},
   "outputs": [],
   "source": [
    "output_cv = pd.read_csv(saved_model_dir + 'analysis/output_cv.csv')\n",
    "outlier1 = output_cv[output_cv.solv1_gamma < -30]\n",
    "outlier2 = output_cv[output_cv.solv2_gamma < -15]"
   ]
  },
  {
   "cell_type": "code",
   "execution_count": 33,
   "metadata": {},
   "outputs": [
    {
     "data": {
      "text/plain": [
       "Index(['job_id', 'solv1', 'solv2', 'solv1_x_input', 'solv2_x', 'solv1_gamma',\n",
       "       'solv2_gamma', 'warnings', 'solv1_smiles', 'solv2_smiles', 'solv1_name',\n",
       "       'solv2_name', 'tpsa_binary_avg', 'idx', 'true_gam1', 'pred_gam1',\n",
       "       'true_gam2', 'pred_gam2', 'solv1_x', 'intra_hb1', 'intra_hb2',\n",
       "       'inter_hb'],\n",
       "      dtype='object')"
      ]
     },
     "execution_count": 33,
     "metadata": {},
     "output_type": "execute_result"
    }
   ],
   "source": [
    "output_cv.columns"
   ]
  },
  {
   "cell_type": "code",
   "execution_count": 29,
   "metadata": {},
   "outputs": [
    {
     "data": {
      "text/plain": [
       "array([[11907, 'solvent_394', 'solvent_540', 0.1, 0.9, -33.0367282,\n",
       "        -0.1762468, nan, 'NCCNCCN', 'C#N', 'DIETHYLENETRIAMINE',\n",
       "        'HYDROGEN CYANIDE', 2, 11907, -33.0367282, -11.729137,\n",
       "        -0.1762468, -6.875627, 0.1, 3, 0, 1]], dtype=object)"
      ]
     },
     "execution_count": 29,
     "metadata": {},
     "output_type": "execute_result"
    }
   ],
   "source": [
    "outlier1.values"
   ]
  },
  {
   "cell_type": "code",
   "execution_count": 32,
   "metadata": {},
   "outputs": [
    {
     "data": {
      "text/plain": [
       "array([[15888, 'solvent_533', 'solvent_794', 0.9, 0.1, -0.30863494,\n",
       "        -15.79282267, nan, 'CCCC(F)(F)C(F)(F)C(O)(F)F', 'OCCN(CCO)CCO',\n",
       "        'HEXAFLUOROHEXANOL', 'TRIETHANOLAMINE', 2, 175888, -0.30863494,\n",
       "        -0.36602384, -15.79282267, -8.344123, 0.9, 1, 3, 2]], dtype=object)"
      ]
     },
     "execution_count": 32,
     "metadata": {},
     "output_type": "execute_result"
    }
   ],
   "source": [
    "outlier2.values"
   ]
  },
  {
   "cell_type": "code",
   "execution_count": null,
   "metadata": {},
   "outputs": [],
   "source": []
  }
 ],
 "metadata": {
  "kernelspec": {
   "display_name": "Python 3.7.4 ('solvgnn')",
   "language": "python",
   "name": "python3"
  },
  "language_info": {
   "codemirror_mode": {
    "name": "ipython",
    "version": 3
   },
   "file_extension": ".py",
   "mimetype": "text/x-python",
   "name": "python",
   "nbconvert_exporter": "python",
   "pygments_lexer": "ipython3",
   "version": "3.7.4"
  },
  "orig_nbformat": 4,
  "vscode": {
   "interpreter": {
    "hash": "7aad10999c46200d989b536a9df0daf0bcc0446519fc8a807bd244d2d61a61df"
   }
  }
 },
 "nbformat": 4,
 "nbformat_minor": 2
}
