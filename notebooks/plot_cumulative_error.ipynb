{
 "cells": [
  {
   "cell_type": "code",
   "execution_count": 1,
   "metadata": {},
   "outputs": [],
   "source": [
    "import os\n",
    "project_dir = \"c:/Users/sqin34/OneDrive - UW-Madison/Research/solvgnn/\"\n",
    "os.chdir(project_dir)"
   ]
  },
  {
   "cell_type": "code",
   "execution_count": 2,
   "metadata": {},
   "outputs": [],
   "source": [
    "import pandas as pd\n",
    "import numpy as np\n",
    "import matplotlib.pyplot as plt"
   ]
  },
  {
   "cell_type": "code",
   "execution_count": 3,
   "metadata": {},
   "outputs": [],
   "source": [
    "def cum_err(output,n_bin=1000):\n",
    "    output['err1'] = np.abs(output['true_gam1'] - output['pred_gam1'])\n",
    "    output['err2'] = np.abs(output['true_gam2'] - output['pred_gam2'])\n",
    "    output['err'] = (output['err1']+output['err2'])/2\n",
    "    values,base = np.histogram(output['err'],bins=n_bin)\n",
    "    cumulative = np.cumsum(values)/np.sum(values)\n",
    "    return [base,cumulative]"
   ]
  },
  {
   "cell_type": "code",
   "execution_count": 4,
   "metadata": {},
   "outputs": [],
   "source": [
    "saved_model_dir_solvcat_bi = project_dir + \"results/job_220822_solvcat_binary_catx_randflip/\"\n",
    "saved_model_dir_solvgcn_bi = project_dir + \"results/job_220814_solvgcn_binary_catx/\"\n",
    "saved_model_dir_solvgnn_bi = project_dir + \"results/job_220811_solvgnn_binary_catx/\"\n",
    "saved_model_dir_solvcat_ter = project_dir + \"results/job_220822_solvcat_ternary_catx_randflip/\"\n",
    "saved_model_dir_solvgcn_ter = project_dir + \"results/job_220814_solvgcn_ternary_catx/\"\n",
    "saved_model_dir_solvgnn_ter = project_dir + \"results/job_220811_solvgnn_ternary_catx/\""
   ]
  },
  {
   "cell_type": "code",
   "execution_count": 5,
   "metadata": {},
   "outputs": [],
   "source": [
    "solvcat_bi = pd.read_csv(saved_model_dir_solvcat_bi + \"analysis/output_cv.csv\")\n",
    "solvgcn_bi = pd.read_csv(saved_model_dir_solvgcn_bi + \"analysis/output_cv.csv\")\n",
    "solvgnn_bi = pd.read_csv(saved_model_dir_solvgnn_bi + \"analysis/output_cv.csv\")\n",
    "solvcat_ter = pd.read_csv(saved_model_dir_solvcat_ter + \"analysis/output_cv.csv\")\n",
    "solvgcn_ter = pd.read_csv(saved_model_dir_solvgcn_ter + \"analysis/output_cv.csv\")\n",
    "solvgnn_ter = pd.read_csv(saved_model_dir_solvgnn_ter + \"analysis/output_cv.csv\")"
   ]
  },
  {
   "cell_type": "code",
   "execution_count": 53,
   "metadata": {},
   "outputs": [
    {
     "name": "stdout",
     "output_type": "stream",
     "text": [
      "[0.05311301 0.06369588 0.07427875 0.08486163 0.0954445  0.10602737\n",
      " 0.11661025 0.12719312 0.13777599 0.14835886]\n",
      "[0.1568125  0.19115625 0.2244     0.2562625  0.28688125 0.31645\n",
      " 0.34509375 0.37295625 0.399      0.42399375]\n"
     ]
    }
   ],
   "source": [
    "base,cumulative = cum_err(solvgcn_ter)\n",
    "print(base[5:15])\n",
    "print(cumulative[5:15])"
   ]
  },
  {
   "cell_type": "code",
   "execution_count": 56,
   "metadata": {},
   "outputs": [
    {
     "data": {
      "text/plain": [
       "0.3030238109505173"
      ]
     },
     "execution_count": 56,
     "metadata": {},
     "output_type": "execute_result"
    }
   ],
   "source": [
    "solvgcn_ter.err.mean()"
   ]
  },
  {
   "cell_type": "code",
   "execution_count": 71,
   "metadata": {},
   "outputs": [
    {
     "name": "stdout",
     "output_type": "stream",
     "text": [
      "0.017052231029885456\n",
      "0.024188100722183963\n",
      "0.030964870950806987\n",
      "0.00568044208536072\n"
     ]
    }
   ],
   "source": [
    "mixture_type_err = []\n",
    "for i in range(3):\n",
    "    err = solvgnn_bi[solvgnn_bi.tpsa_binary_avg==i].err.mean()\n",
    "    mixture_type_err.append(err)\n",
    "    print(err)\n",
    "print(np.std(np.array(mixture_type_err)))"
   ]
  },
  {
   "cell_type": "code",
   "execution_count": 72,
   "metadata": {},
   "outputs": [
    {
     "name": "stdout",
     "output_type": "stream",
     "text": [
      "0.033324767320320574\n",
      "0.02285899642954706\n",
      "0.005232885445386757\n"
     ]
    }
   ],
   "source": [
    "conc_type_err = []\n",
    "for i in [(0.1, 0.9), (0.5, 0.5)]:\n",
    "    err = solvgnn_bi[(solvgnn_bi.solv1_x==i[0]) | (solvgnn_bi.solv1_x==i[1])].err.mean()\n",
    "    conc_type_err.append(err)\n",
    "    print(err)\n",
    "print(np.std(np.array(conc_type_err)))"
   ]
  },
  {
   "cell_type": "code",
   "execution_count": 68,
   "metadata": {},
   "outputs": [
    {
     "data": {
      "text/plain": [
       "0.050724897517368174"
      ]
     },
     "execution_count": 68,
     "metadata": {},
     "output_type": "execute_result"
    }
   ],
   "source": [
    "solvgnn_ter[(solvgnn_ter.solv1_x==0.15) | (solvgnn_ter.solv1_x==0.7)].err.std()"
   ]
  },
  {
   "cell_type": "code",
   "execution_count": 6,
   "metadata": {},
   "outputs": [],
   "source": [
    "labels = ['SolvCAT','SolvGCN','SolvGNN']\n",
    "linestyles = ['dotted','dashed','solid']"
   ]
  },
  {
   "cell_type": "code",
   "execution_count": 7,
   "metadata": {},
   "outputs": [],
   "source": [
    "plt.rcParams.update({\n",
    "    'text.usetex': True,\n",
    "    'font.family':'serif',\n",
    "    'font.serif':['Computer Modern'],\n",
    "    'axes.labelsize':10,\n",
    "    'xtick.labelsize':9,\n",
    "    'ytick.labelsize':9})"
   ]
  },
  {
   "cell_type": "code",
   "execution_count": 12,
   "metadata": {},
   "outputs": [
    {
     "data": {
      "image/png": "[encoded data removed]",
      "text/plain": [
       "<Figure size 216x201.6 with 1 Axes>"
      ]
     },
     "metadata": {
      "needs_background": "light"
     },
     "output_type": "display_data"
    }
   ],
   "source": [
    "fig,ax = plt.subplots(figsize=(3,2.8))\n",
    "ax.grid(color='lightgray',linewidth=0.75,alpha=0.5)\n",
    "gnn_arch = [solvcat_bi,solvgcn_bi,solvgnn_bi]\n",
    "for i,output in enumerate(gnn_arch):\n",
    "    base,cumulative = cum_err(output)\n",
    "    ax.plot(base[:-1],cumulative,label=labels[i],linestyle=linestyles[i],c='black')\n",
    "gnn_arch = [solvcat_ter,solvgcn_ter,solvgnn_ter]\n",
    "for i,output in enumerate(gnn_arch):\n",
    "    base,cumulative = cum_err(output)\n",
    "    ax.plot(base[:-1],cumulative,label=labels[i],linestyle=linestyles[i],c='r')\n",
    "ax.set_xlim((0,1))\n",
    "ax.set_ylim((0,1))\n",
    "ax.set_xlabel('Average $\\ln\\gamma$ Error')\n",
    "ax.set_ylabel('Cumulative Probability')\n",
    "plt.legend()\n",
    "plt.tight_layout()\n",
    "plt.savefig(saved_model_dir_solvgnn_bi + '/analysis/model_cumfreq_comparison_overlay.svg',pad_inches=0,dpi=400,transparent=True)   "
   ]
  }
 ],
 "metadata": {
  "kernelspec": {
   "display_name": "Python 3.7.4 ('solvgnn')",
   "language": "python",
   "name": "python3"
  },
  "language_info": {
   "codemirror_mode": {
    "name": "ipython",
    "version": 3
   },
   "file_extension": ".py",
   "mimetype": "text/x-python",
   "name": "python",
   "nbconvert_exporter": "python",
   "pygments_lexer": "ipython3",
   "version": "3.7.4"
  },
  "orig_nbformat": 4,
  "vscode": {
   "interpreter": {
    "hash": "7aad10999c46200d989b536a9df0daf0bcc0446519fc8a807bd244d2d61a61df"
   }
  }
 },
 "nbformat": 4,
 "nbformat_minor": 2
}
