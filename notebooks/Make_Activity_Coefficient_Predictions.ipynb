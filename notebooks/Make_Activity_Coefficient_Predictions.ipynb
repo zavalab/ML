{
 "cells": [
  {
   "cell_type": "markdown",
   "id": "0bb16e81",
   "metadata": {},
   "source": [
    "## Preparation"
   ]
  },
  {
   "cell_type": "markdown",
   "id": "a88a11a5",
   "metadata": {},
   "source": [
    "#### Import Libraries"
   ]
  },
  {
   "cell_type": "code",
   "execution_count": 1,
   "id": "263f07c3",
   "metadata": {},
   "outputs": [
    {
     "name": "stderr",
     "output_type": "stream",
     "text": [
      "Using backend: pytorch\n"
     ]
    }
   ],
   "source": [
    "import torch\n",
    "import numpy as np\n",
    "import pandas as pd\n",
    "from model_GNN import solvgnn_binary, solvgnn_ternary\n",
    "from generate_dataset import solvent_dataset_binary, solvent_dataset_ternary\n",
    "import matplotlib.pyplot as plt"
   ]
  },
  {
   "cell_type": "markdown",
   "id": "7f182585",
   "metadata": {},
   "source": [
    "### Activity Coefficient Predictions for Binary Mixtures "
   ]
  },
  {
   "cell_type": "markdown",
   "id": "14fb28c9",
   "metadata": {},
   "source": [
    "#### Load trained models"
   ]
  },
  {
   "cell_type": "code",
   "execution_count": 2,
   "id": "c45898dc",
   "metadata": {},
   "outputs": [],
   "source": [
    "model = solvgnn_binary(in_dim=74, hidden_dim=256, n_classes=2).cuda()"
   ]
  },
  {
   "cell_type": "code",
   "execution_count": 3,
   "id": "6a6bd7c1",
   "metadata": {},
   "outputs": [],
   "source": [
    "cv_param_list = []\n",
    "for cv_id in range(5):\n",
    "    cv_param_list.append('../saved_model/solvgnn_binary_final_model_cv{}.pth'.format(cv_id))"
   ]
  },
  {
   "cell_type": "markdown",
   "id": "e3bf92fd",
   "metadata": {},
   "source": [
    "#### Initialize dataset class"
   ]
  },
  {
   "cell_type": "code",
   "execution_count": 4,
   "id": "d562a149",
   "metadata": {},
   "outputs": [],
   "source": [
    "dataset = solvent_dataset_binary(input_file_path=None)"
   ]
  },
  {
   "cell_type": "markdown",
   "id": "1c84b39e",
   "metadata": {},
   "source": [
    "#### Enter input information"
   ]
  },
  {
   "cell_type": "code",
   "execution_count": 5,
   "id": "fc5c97f6",
   "metadata": {},
   "outputs": [],
   "source": [
    "solv1_x = 0.5\n",
    "chemical_list = [\"water\",\"methanol\"]\n",
    "smiles_list = [\"O\",\"CO\"]"
   ]
  },
  {
   "cell_type": "markdown",
   "id": "87f75143",
   "metadata": {},
   "source": [
    "#### Predict activity coefficients"
   ]
  },
  {
   "cell_type": "code",
   "execution_count": 6,
   "id": "24d470a9",
   "metadata": {},
   "outputs": [
    {
     "name": "stdout",
     "output_type": "stream",
     "text": [
      "Predicted ln gamma:\n",
      "50.0% water: 0.14 +/- 0.06\n",
      "50.0% methanol: 0.08 +/- 0.02\n"
     ]
    }
   ],
   "source": [
    "pred,std = dataset.predict_new_with_uncertainty(model,\n",
    "                                            cv_param_list,\n",
    "                                            chemical_list,\n",
    "                                            smiles_list,\n",
    "                                            solv1_x,\n",
    "                                            gamma_list=None)\n",
    "print(\"Predicted ln gamma:\")\n",
    "for i in range(2):\n",
    "    print(\"{}% {}: {:.2f} +/- {:.2f}\".format([solv1_x,1-solv1_x][i]*100,chemical_list[i],pred[i],std[i]))"
   ]
  },
  {
   "cell_type": "markdown",
   "id": "882a4718",
   "metadata": {},
   "source": [
    "### Activity Coefficient Predictions for Ternary Mixtures"
   ]
  },
  {
   "cell_type": "markdown",
   "id": "14b9c4ac",
   "metadata": {},
   "source": [
    "#### Load trained models"
   ]
  },
  {
   "cell_type": "code",
   "execution_count": 7,
   "id": "2ddf47c0",
   "metadata": {},
   "outputs": [],
   "source": [
    "model = solvgnn_ternary(in_dim=74, hidden_dim=256, n_classes=3).cuda()"
   ]
  },
  {
   "cell_type": "code",
   "execution_count": 8,
   "id": "d2b6a9f4",
   "metadata": {},
   "outputs": [],
   "source": [
    "cv_param_list = []\n",
    "for cv_id in range(5):\n",
    "    cv_param_list.append('../saved_model/solvgnn_ternary_final_model_cv{}.pth'.format(cv_id))"
   ]
  },
  {
   "cell_type": "markdown",
   "id": "8ca7e6fb",
   "metadata": {},
   "source": [
    "#### Initialize dataset class"
   ]
  },
  {
   "cell_type": "code",
   "execution_count": 9,
   "id": "1b1e1240",
   "metadata": {},
   "outputs": [],
   "source": [
    "dataset = solvent_dataset_ternary(input_file_path=None)"
   ]
  },
  {
   "cell_type": "markdown",
   "id": "03a27a00",
   "metadata": {},
   "source": [
    "#### Enter input information"
   ]
  },
  {
   "cell_type": "code",
   "execution_count": 10,
   "id": "f94eac9a",
   "metadata": {},
   "outputs": [],
   "source": [
    "solv1_x = 0.3\n",
    "solv2_x = 0.3\n",
    "chemical_list = [\"water\",\"acetone\",\"methyl isobutyl ketone\"]\n",
    "smiles_list = [\"O\",\"CC(=O)C\",\"CC(C)CC(=O)C\"]"
   ]
  },
  {
   "cell_type": "markdown",
   "id": "5462cbda",
   "metadata": {},
   "source": [
    "#### Predict activity coefficients"
   ]
  },
  {
   "cell_type": "code",
   "execution_count": 11,
   "id": "8cfed13f",
   "metadata": {},
   "outputs": [
    {
     "name": "stdout",
     "output_type": "stream",
     "text": [
      "Predicted ln gamma:\n",
      "30.0% water: 1.07 +/- 0.09\n",
      "30.0% acetone: 0.02 +/- 0.01\n",
      "40.0% methyl isobutyl ketone: 0.38 +/- 0.03\n"
     ]
    }
   ],
   "source": [
    "pred,std = dataset.predict_new_with_uncertainty(model,\n",
    "                                                cv_param_list,\n",
    "                                                chemical_list,\n",
    "                                                smiles_list,\n",
    "                                                solv1_x,\n",
    "                                                solv2_x,\n",
    "                                                gamma_list=None)\n",
    "print(\"Predicted ln gamma:\")\n",
    "for i in range(3):\n",
    "    print(\"{}% {}: {:.2f} +/- {:.2f}\".format([solv1_x,solv2_x,1-solv1_x-solv2_x][i]*100,chemical_list[i],pred[i],std[i]))"
   ]
  },
  {
   "cell_type": "code",
   "execution_count": null,
   "id": "43c435f9",
   "metadata": {},
   "outputs": [],
   "source": []
  }
 ],
 "metadata": {
  "kernelspec": {
   "display_name": "Python 3 (ipykernel)",
   "language": "python",
   "name": "python3"
  },
  "language_info": {
   "codemirror_mode": {
    "name": "ipython",
    "version": 3
   },
   "file_extension": ".py",
   "mimetype": "text/x-python",
   "name": "python",
   "nbconvert_exporter": "python",
   "pygments_lexer": "ipython3",
   "version": "3.7.4"
  }
 },
 "nbformat": 4,
 "nbformat_minor": 5
}
