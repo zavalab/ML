{
 "cells": [
  {
   "cell_type": "code",
   "execution_count": null,
   "id": "6a14514b",
   "metadata": {},
   "outputs": [],
   "source": [
    "import numpy as np\n",
    "import matplotlib.pyplot as plt\n",
    "import matplotlib\n",
    "import optuna\n",
    "import seaborn as sns\n",
    "import pandas as pd\n",
    "\n",
    "# Pytorch for training VAE\n",
    "import torch\n",
    "import torch.nn as nn\n",
    "import torch.nn.functional as F\n",
    "from torch import nn\n",
    "from torch.utils.data import TensorDataset\n",
    "from torch.utils.data import DataLoader\n",
    "\n",
    "# Metrics to measure\n",
    "import sklearn\n",
    "from sklearn.model_selection import KFold\n",
    "\n",
    "import time\n",
    "import random\n",
    "import os                          # Import operating system interface\n",
    "matplotlib.rcParams['font.family'] = 'STIXGeneral'"
   ]
  },
  {
   "cell_type": "markdown",
   "id": "46766e96",
   "metadata": {},
   "source": [
    "Set deterministic environment"
   ]
  },
  {
   "cell_type": "code",
   "execution_count": null,
   "id": "ef288eea",
   "metadata": {},
   "outputs": [
    {
     "data": {
      "text/plain": [
       "<torch._C.Generator at 0x22d5d262350>"
      ]
     },
     "execution_count": 2,
     "metadata": {},
     "output_type": "execute_result"
    }
   ],
   "source": [
    "seed = 42\n",
    "random.seed(seed) # random seed for Python's random module\n",
    "np.random.seed(seed) # random seed for NumPy\n",
    "torch.manual_seed(seed) # random seed for PyTorch"
   ]
  },
  {
   "cell_type": "markdown",
   "id": "ee97f934",
   "metadata": {},
   "source": [
    "First , we generate some feasible designs and combinations for each solvent with the following code:"
   ]
  },
  {
   "cell_type": "code",
   "execution_count": null,
   "id": "fe882094",
   "metadata": {},
   "outputs": [
    {
     "name": "stdout",
     "output_type": "stream",
     "text": [
      "Number of points generated: 20000\n"
     ]
    },
    {
     "data": {
      "text/plain": [
       "tensor([[ 0., 17., 28.],\n",
       "        [ 1., 17., 28.],\n",
       "        [ 2., 17., 28.],\n",
       "        ...,\n",
       "        [ 1.,  8., 55.],\n",
       "        [ 2.,  8., 55.],\n",
       "        [ 3.,  8., 55.]], dtype=torch.float64)"
      ]
     },
     "execution_count": 3,
     "metadata": {},
     "output_type": "execute_result"
    }
   ],
   "source": [
    "def data_encoder_generation(bounds, num_initial_points, categorical_variables = 4,seed = 42):\n",
    "    \"\"\"\n",
    "    :parambounds: Bounds tensor for the variables.\n",
    "    :param num_initial_points: Number of initial points to generate.\n",
    "    :param satisfies_constraints: Function that checks if a point satisfies the constraints.\n",
    "    :return: Results\n",
    "    \"\"\"\n",
    "    # Deterministic behaviour\n",
    "    random.seed(seed)\n",
    "    np.random.seed(seed)\n",
    "    torch.manual_seed(seed)\n",
    "\n",
    "    initial_points = []\n",
    "    total_points = num_initial_points* categorical_variables\n",
    "    while len(initial_points) < total_points:\n",
    "        candidate_point = []\n",
    "        for i in range(bounds.shape[1]): \n",
    "            value = torch.randint(bounds[0, i].to(torch.int).item(), bounds[1, i].to(torch.int).item() + 1, (1,)).item()\n",
    "            candidate_point.append(value)      \n",
    "  \n",
    "        if satisfies_constraints_discrete(candidate_point):\n",
    "            for k in range(categorical_variables):\n",
    "                categorical_val = [k]\n",
    "                discreteset_val = candidate_point\n",
    "                initial_points.append( categorical_val + discreteset_val)\n",
    "    return torch.tensor(initial_points, dtype=torch.float64)\n",
    "\n",
    "\n",
    "def satisfies_constraints_discrete(x):\n",
    "    Constraint_List = []\n",
    "    Constraint_List.append(x[0]<x[1]) \n",
    "    Feasibility = all(Constraint_List) == True \n",
    "    return Feasibility\n",
    "\n",
    "bounds = torch.tensor([[1 , 20] ,\n",
    "                       [60, 60]],dtype = torch.float64)\n",
    "num_initial_points = 5000\n",
    "initial_points = data_encoder_generation(bounds , num_initial_points=num_initial_points)\n",
    "print('Number of points generated:', len(initial_points))\n",
    "initial_points"
   ]
  },
  {
   "cell_type": "markdown",
   "id": "095db739",
   "metadata": {},
   "source": [
    "Convert all variables to indices by subtracting the lower bound of each x."
   ]
  },
  {
   "cell_type": "code",
   "execution_count": 4,
   "id": "a445c74a",
   "metadata": {},
   "outputs": [],
   "source": [
    "columns_to_encode = initial_points\n",
    "X_discrete_raw = columns_to_encode.clone()  # tamaño (N, 3)\n",
    "# X_discrete_idx = X_discrete_raw.clone().detach()\n",
    "# X_discrete_idx[:, 0] -= 1  # feed1: 1–60 to 0–59\n",
    "# X_discrete_idx[:, 1] -= 1  # feed: 1–60 to 0–59\n",
    "# X_discrete_idx[:, 2] -= 20 # column trays: 20-60 to  0-40"
   ]
  },
  {
   "cell_type": "markdown",
   "id": "b4597b83",
   "metadata": {},
   "source": [
    "Variational AutoEncoder class"
   ]
  },
  {
   "cell_type": "code",
   "execution_count": 5,
   "id": "444ba701",
   "metadata": {},
   "outputs": [],
   "source": [
    "class DiscreteAutoencoder(nn.Module):\n",
    "    def __init__(self, emb_dim=8, latent_dim=8):\n",
    "        super().__init__()\n",
    "        self.emb_dim = emb_dim\n",
    "        self.latent_dim = latent_dim\n",
    "\n",
    "        # Embeddings para cada variable discreta\n",
    "        self.var1_emb = nn.Embedding(4, emb_dim)   # 4 solventes\n",
    "        self.var2_emb = nn.Embedding(60, emb_dim)  # alimentación (1-60)\n",
    "        self.var3_emb = nn.Embedding(41, emb_dim)  # etapas (20-60)\n",
    "\n",
    "        # Encoder\n",
    "        self.encoder_fc = nn.Sequential(\n",
    "            nn.Linear(3 * emb_dim, 16),\n",
    "            nn.ReLU()\n",
    "        )\n",
    "        self.fc_mu = nn.Linear(16, latent_dim)\n",
    "        self.fc_logvar = nn.Linear(16, latent_dim)\n",
    "\n",
    "        # Decoder\n",
    "        self.decoder = nn.Sequential(\n",
    "            nn.Linear(latent_dim, 16),\n",
    "            nn.ReLU(),\n",
    "            nn.Linear(16, 3 * emb_dim)\n",
    "        )\n",
    "\n",
    "        # Individual decoders per variable\n",
    "        self.var1_out = nn.Linear(emb_dim, 4)\n",
    "        self.var2_out = nn.Linear(emb_dim, 60)\n",
    "        self.var3_out = nn.Linear(emb_dim, 41)\n",
    "\n",
    "    def reparameterize(self, mu, logvar):\n",
    "        std = torch.exp(0.5 * logvar)\n",
    "        eps = torch.randn_like(std)\n",
    "        return mu + eps * std\n",
    "\n",
    "    def forward(self, x):\n",
    "        # x: batch x 3\n",
    "        solvent_type, f, nstages = x[:, 0], x[:, 1], x[:, 2]\n",
    "\n",
    "        # Ajustar índices a 0-based\n",
    "        solvent_idx = solvent_type\n",
    "        f1_idx = f - 1\n",
    "        stage_idx = nstages - 20\n",
    "\n",
    "        # Embeddings\n",
    "        solvent_emb = self.var1_emb(solvent_idx)\n",
    "        f_emb = self.var2_emb(f1_idx)\n",
    "        st_emb = self.var3_emb(stage_idx)\n",
    "\n",
    "        # Encoder\n",
    "        h = torch.cat([solvent_emb, f_emb, st_emb], dim=1)\n",
    "        h_enc = self.encoder_fc(h)\n",
    "\n",
    "        mu = self.fc_mu(h_enc)\n",
    "        logvar = self.fc_logvar(h_enc)\n",
    "        z = self.reparameterize(mu, logvar)\n",
    "\n",
    "        # Decoder\n",
    "        h_dec = self.decoder(z)\n",
    "        f1_dec, f2_dec, st_dec = torch.chunk(h_dec, 3, dim=1)\n",
    "\n",
    "        # Logits\n",
    "        f1_logits = self.var1_out(f1_dec)\n",
    "        f2_logits = self.var2_out(f2_dec)\n",
    "        st_logits = self.var3_out(st_dec)\n",
    "\n",
    "        return f1_logits, f2_logits, st_logits, mu, logvar\n",
    "\n",
    "    def recover(self, z_input):\n",
    "        z_input = torch.tensor([z_input], dtype=torch.float32)\n",
    "        y_decoded = self.decoder(z_input).squeeze(0)\n",
    "        f1_dec, f2_dec, st_dec = torch.chunk(y_decoded, 3, dim=0)\n",
    "\n",
    "        f1_logits = self.var1_out(f1_dec.unsqueeze(0))\n",
    "        f2_logits = self.var2_out(f2_dec.unsqueeze(0))\n",
    "        st_logits = self.var3_out(st_dec.unsqueeze(0))\n",
    "\n",
    "        # Softmax\n",
    "        f1_probs = F.softmax(f1_logits, dim=1)\n",
    "        f2_probs = F.softmax(f2_logits, dim=1)\n",
    "        st_probs = F.softmax(st_logits, dim=1)\n",
    "\n",
    "        # Adjust  indexes\n",
    "        f1_discrete = torch.argmax(f1_probs, dim=1)  # solvente\n",
    "        f2_discrete = torch.argmax(f2_probs, dim=1) + 1  # alimentación\n",
    "        # Máask for st_probs\n",
    "        mask = torch.arange(41, device=st_probs.device).unsqueeze(0)\n",
    "        invalid_mask = mask <= (f2_discrete.unsqueeze(1) - 20)\n",
    "        st_probs[invalid_mask] = 0.0\n",
    "        st_probs = st_probs / st_probs.sum(dim=1, keepdim=True)\n",
    "        st_discrete = torch.argmax(st_probs, dim=1) + 20  # etapas\n",
    "\n",
    "        return f1_discrete.item(), f2_discrete.item(), st_discrete.item()\n"
   ]
  },
  {
   "cell_type": "code",
   "execution_count": 6,
   "id": "43331a90",
   "metadata": {},
   "outputs": [],
   "source": [
    "class AccumulationMeter(object):\n",
    "    def __init__(self):\n",
    "        self.reset()\n",
    "\n",
    "    def reset(self):\n",
    "        self.value = 0.0\n",
    "        self.sum = 0.0\n",
    "        self.count = 0.0\n",
    "        self.avg = 0.0\n",
    "\n",
    "    def update(self, value, n=1):\n",
    "        self.value = value\n",
    "        self.sum += value * n\n",
    "        self.count += n\n",
    "        self.avg = self.sum / self.count"
   ]
  },
  {
   "cell_type": "code",
   "execution_count": 7,
   "id": "2df5e7a0",
   "metadata": {},
   "outputs": [],
   "source": [
    "def loss_fn(f1_logits, f2_logits, st_logits,   mu, logvar, klratio, targets):\n",
    "    f1_target, f2_target, st_target = targets[:, 0] , targets[:, 1] - 1, targets[:, 2] - 20\n",
    "    \n",
    "    \n",
    "    # Create copy of st_logits to apply mask\n",
    "    st_logits_masked = st_logits.clone()\n",
    "    \n",
    "    # Dynamic mask: Invalidate categories in x3 that do not satisfy x3 > x2\n",
    "    for i in range(targets.size(0)):\n",
    "        invalid_mask = torch.arange(41, device=st_logits.device) <= (f2_target[i] - 20)\n",
    "        st_logits_masked[i, invalid_mask] = float('-inf')\n",
    "\n",
    "    f1_loss = F.cross_entropy(f1_logits, f1_target) \n",
    "    f2_loss = F.cross_entropy(f2_logits, f2_target)\n",
    "    st_loss = F.cross_entropy(st_logits_masked, st_target)\n",
    "\n",
    "    recon_loss = f1_loss + f2_loss + st_loss\n",
    "    \n",
    "    kl_div = -0.5 * torch.sum(1 + logvar - mu.pow(2) - logvar.exp()) / targets.size(0)\n",
    "\n",
    "    return recon_loss + klratio*kl_div  # "
   ]
  },
  {
   "cell_type": "code",
   "execution_count": 8,
   "id": "bf10452d",
   "metadata": {},
   "outputs": [],
   "source": [
    "def train(model, device, dataloader, optimizer, loss_fn, klratio):\n",
    "    \"\"\"\n",
    "    Trains the model.\n",
    "    Parameters:\n",
    "    model: The neural network model to train.\n",
    "    device: The device (CPU or CUDA) to use for training.\n",
    "    dataloader: DataLoader object for the training data.\n",
    "    optimizer: Optimizer for the training process.\n",
    "    loss_fn: Loss function used for training.\n",
    "\n",
    "    Returns:\n",
    "    Average loss over the training dataset.\n",
    "    \"\"\"\n",
    "    model.train()\n",
    "    loss_accum = AccumulationMeter()\n",
    "    for X in dataloader:\n",
    "        # Model prediction and loss calculation\n",
    "        f1_logits, f2_logits, st_logits, mu, logvar, = model(X[0])\n",
    "        loss = loss_fn(f1_logits, f2_logits, st_logits, mu, logvar, klratio ,  X[0])\n",
    "        loss_accum.update(loss.item(), f1_logits.size(0))\n",
    "\n",
    "        # Backpropagation\n",
    "        optimizer.zero_grad()\n",
    "        loss.backward()\n",
    "        optimizer.step()\n",
    "\n",
    "    return loss_accum.avg\n",
    "\n",
    "def test(model, device, dataloader, loss_fn, klratio ):\n",
    "    \"\"\"\n",
    "    Evaluates the model's performance on a test dataset.\n",
    "\n",
    "    Parameters:\n",
    "    model: The neural network model to evaluate.\n",
    "    device: The device (CPU or CUDA) to use for evaluation.\n",
    "    dataloader: DataLoader object for the test data.\n",
    "    loss_fn: Loss function used for evaluation.\n",
    "\n",
    "    Returns:\n",
    "    Average loss over the test dataset.\n",
    "    \"\"\"\n",
    "    model.eval()  # Set the model to evaluation mode\n",
    "    loss_accum = AccumulationMeter()\n",
    "    with torch.no_grad():  # Disable gradient computation\n",
    "        for X in dataloader:\n",
    "            # Model prediction and loss calculation\n",
    "            f1_logits, f2_logits, st_logits, mu, logvar= model(X[0])\n",
    "            loss = loss_fn(f1_logits, f2_logits, st_logits, mu, logvar, klratio, X[0])\n",
    "            loss_accum.update(loss.item(), f1_logits.size(0))\n",
    "\n",
    "    return loss_accum.avg\n",
    "\n",
    "def validation(model, device, dataloader, loss_fn, klratio):\n",
    "    \"\"\"\n",
    "    Evaluates the model's performance on a test dataset.\n",
    "\n",
    "    Parameters:\n",
    "    model: The neural network model to evaluate.\n",
    "    device: The device (CPU or CUDA) to use for evaluation.\n",
    "    dataloader: DataLoader object for the test data.\n",
    "    loss_fn: Loss function used for evaluation.\n",
    "\n",
    "    Returns:\n",
    "    Average loss over the test dataset.\n",
    "    \"\"\"\n",
    "    model.eval()  # Set the model to evaluation mode\n",
    "    loss_accum = AccumulationMeter()\n",
    "    with torch.no_grad():  # Disable gradient computation\n",
    "        for X in dataloader:\n",
    "            # Model prediction and loss calculation\n",
    "            f1_logits, f2_logits, st_logits, mu, logvar= model(X[0])\n",
    "            loss = loss_fn(f1_logits, f2_logits, st_logits, mu, logvar, klratio,  X[0])\n",
    "            loss_accum.update(loss.item(), f1_logits.size(0))\n",
    "\n",
    "    return loss_accum.avg\n",
    "     "
   ]
  },
  {
   "cell_type": "markdown",
   "id": "3d0d1d18",
   "metadata": {},
   "source": [
    "Split data"
   ]
  },
  {
   "cell_type": "code",
   "execution_count": 11,
   "id": "c0499f37",
   "metadata": {},
   "outputs": [],
   "source": [
    "trainsize = int(len(initial_points)*.70)\n",
    "train_data_set = TensorDataset(X_discrete_raw.long()[0:trainsize])\n",
    "test_data_set = TensorDataset(X_discrete_raw.long()[trainsize+1:])"
   ]
  },
  {
   "cell_type": "code",
   "execution_count": 12,
   "id": "b541a1a1",
   "metadata": {},
   "outputs": [],
   "source": [
    "train_dataloader = DataLoader(train_data_set, batch_size = 32, shuffle=True)\n",
    "test_dataloader = DataLoader(test_data_set, batch_size = 100, shuffle=False)"
   ]
  },
  {
   "cell_type": "markdown",
   "id": "9094cd1f",
   "metadata": {},
   "source": [
    "Optimizacion con hyperparametros"
   ]
  },
  {
   "cell_type": "code",
   "execution_count": null,
   "id": "4cf07e92",
   "metadata": {},
   "outputs": [],
   "source": [
    "from tqdm import tqdm\n",
    "\n",
    "def objective(trial):\n",
    "    # Hyperparameters to be optimized\n",
    "    latent_dim = trial.suggest_int('Latent size', 6 , 8)\n",
    "    klratio = trial.suggest_float('KL ratio', 0.1, 0.4)\n",
    "    lr = trial.suggest_float('lr', 1e-4, 1e-1, log=True)\n",
    "\n",
    "    device = 'cuda' if torch.cuda.is_available() else 'cpu'\n",
    "    model = DiscreteAutoencoder(emb_dim=8,   latent_dim= latent_dim ).to(device)\n",
    "    # train_loss_save, test_loss_save = [], []\n",
    "    optimizer = torch.optim.Adam(model.parameters(), lr = lr)  # 0.001)\n",
    "    epochs = 250\n",
    "    kf = KFold(n_splits=5, shuffle=True, random_state=42)\n",
    "\n",
    "    val_loss_save = []\n",
    "    for fold, (train_idx, val_idx) in enumerate(kf.split(X_discrete_raw)):\n",
    "        train_sub = X_discrete_raw[train_idx].long()\n",
    "        val_sub = X_discrete_raw[val_idx].long()\n",
    "        train_data_set = TensorDataset(train_sub)\n",
    "        val_data_set = TensorDataset(val_sub)\n",
    "        train_dataloader = DataLoader(train_data_set, batch_size = 32, shuffle=True)\n",
    "        val_dataloader = DataLoader(val_data_set, batch_size = 100, shuffle=False)\n",
    "        for epoch in tqdm(range(epochs)):\n",
    "            train_loss = train(model, device, train_dataloader, optimizer, loss_fn, klratio = klratio)\n",
    "            # train_loss_save.append(train_loss)\n",
    "        val_loss = validation(model,device,val_dataloader,loss_fn, klratio = klratio)\n",
    "        val_loss_save.append(val_loss)\n",
    "    return np.mean(val_loss_save)"
   ]
  },
  {
   "cell_type": "markdown",
   "id": "0560b40f",
   "metadata": {},
   "source": [
    "Crear estudio"
   ]
  },
  {
   "cell_type": "code",
   "execution_count": null,
   "id": "4a915d9c",
   "metadata": {},
   "outputs": [
    {
     "name": "stderr",
     "output_type": "stream",
     "text": [
      "[I 2025-09-29 11:45:01,932] Using an existing study with name 'LLExtraction_VAE' instead of creating a new one.\n"
     ]
    }
   ],
   "source": [
    "study_name = 'LLExtraction_VAE'\n",
    "storage_traj = f'sqlite:///{study_name}.db'\n",
    "study = optuna.create_study(direction='minimize', study_name=study_name, storage=storage_traj, load_if_exists=True)\n"
   ]
  },
  {
   "cell_type": "code",
   "execution_count": null,
   "id": "04883dbe",
   "metadata": {},
   "outputs": [
    {
     "name": "stderr",
     "output_type": "stream",
     "text": [
      "100%|██████████| 250/250 [08:02<00:00,  1.93s/it]\n",
      "100%|██████████| 250/250 [08:48<00:00,  2.11s/it]\n",
      "100%|██████████| 250/250 [08:13<00:00,  1.97s/it]\n",
      "100%|██████████| 250/250 [08:09<00:00,  1.96s/it]\n",
      "100%|██████████| 250/250 [08:42<00:00,  2.09s/it]\n",
      "[I 2025-06-20 10:49:45,676] Trial 18 finished with value: 1.5597400504350662 and parameters: {'Latent size': 7, 'KL ratio': 0.1255603450390418, 'lr': 0.0007102614506292699}. Best is trial 13 with value: 1.2578887164592742.\n",
      "100%|██████████| 250/250 [08:17<00:00,  1.99s/it]\n",
      "100%|██████████| 250/250 [08:31<00:00,  2.05s/it]\n",
      "100%|██████████| 250/250 [08:02<00:00,  1.93s/it]\n",
      "100%|██████████| 250/250 [08:26<00:00,  2.02s/it]\n",
      "100%|██████████| 250/250 [07:55<00:00,  1.90s/it]\n",
      "[I 2025-06-20 11:30:59,138] Trial 19 finished with value: 1.9859546816349032 and parameters: {'Latent size': 8, 'KL ratio': 0.1692230139188511, 'lr': 0.00019026730238643307}. Best is trial 13 with value: 1.2578887164592742.\n",
      "100%|██████████| 250/250 [07:59<00:00,  1.92s/it]\n",
      "100%|██████████| 250/250 [06:47<00:00,  1.63s/it]\n",
      "100%|██████████| 250/250 [07:17<00:00,  1.75s/it]\n",
      "100%|██████████| 250/250 [07:26<00:00,  1.79s/it]\n",
      "100%|██████████| 250/250 [07:37<00:00,  1.83s/it]\n",
      "[I 2025-06-20 12:08:08,893] Trial 20 finished with value: 2.6666363334655765 and parameters: {'Latent size': 7, 'KL ratio': 0.23682680254671862, 'lr': 0.0004753145190845429}. Best is trial 13 with value: 1.2578887164592742.\n",
      "100%|██████████| 250/250 [07:26<00:00,  1.79s/it]\n",
      "100%|██████████| 250/250 [07:30<00:00,  1.80s/it]\n",
      "100%|██████████| 250/250 [07:40<00:00,  1.84s/it]\n",
      "100%|██████████| 250/250 [07:15<00:00,  1.74s/it]\n",
      "100%|██████████| 250/250 [07:59<00:00,  1.92s/it]\n",
      "[I 2025-06-20 12:46:01,424] Trial 21 finished with value: 2.1485678482055666 and parameters: {'Latent size': 8, 'KL ratio': 0.18303815487101877, 'lr': 0.0039231843218003925}. Best is trial 13 with value: 1.2578887164592742.\n"
     ]
    }
   ],
   "source": [
    "trials = 4 # set the number of trials that you want to run , you can re-run any times. \n",
    "for i in range(trials):\n",
    "    study.optimize(objective, n_trials=1)"
   ]
  },
  {
   "cell_type": "code",
   "execution_count": null,
   "id": "660d1086",
   "metadata": {},
   "outputs": [],
   "source": [
    "# from optuna.visualization import plot_optimization_history, plot_param_importances, plot_slice\n",
    "# plot_optimization_history(study)\n",
    "# plot_param_importances(study)\n",
    "# plot_slice(study)"
   ]
  },
  {
   "cell_type": "code",
   "execution_count": null,
   "id": "936c8c66",
   "metadata": {},
   "outputs": [],
   "source": [
    "## uncomment just in case the study must be deleted.\n",
    "# optuna.delete_study(study_name=study_name, storage=storage_traj)"
   ]
  },
  {
   "cell_type": "code",
   "execution_count": null,
   "id": "eb661676",
   "metadata": {},
   "outputs": [
    {
     "data": {
      "text/plain": [
       "{'Latent size': 8,\n",
       " 'KL ratio': 0.10276787460136373,\n",
       " 'lr': 0.0001553308446698802}"
      ]
     },
     "execution_count": 14,
     "metadata": {},
     "output_type": "execute_result"
    }
   ],
   "source": [
    "study.best_params"
   ]
  },
  {
   "cell_type": "code",
   "execution_count": null,
   "id": "c96b0182",
   "metadata": {},
   "outputs": [
    {
     "name": "stderr",
     "output_type": "stream",
     "text": [
      "100%|██████████| 5/5 [00:14<00:00,  2.94s/it]\n"
     ]
    }
   ],
   "source": [
    "from tqdm import tqdm\n",
    "device = 'cuda' if torch.cuda.is_available() else 'cpu'\n",
    "model = DiscreteAutoencoder(emb_dim=8,   latent_dim= 8 ).to(device)\n",
    "train_loss_save, test_loss_save = [], []\n",
    "optimizer = torch.optim.Adam(model.parameters(), lr = 0.0001553308446698802)\n",
    "epochs = 1000\n",
    "for epoch in tqdm(range(epochs)):\n",
    "    train_loss = train(model, device, train_dataloader, optimizer, loss_fn, klratio= 0.10276787460136373)\n",
    "    train_loss_save.append(train_loss)\n",
    "    test_loss = test(model, device, test_dataloader, loss_fn,  klratio= 0.10276787460136373)\n",
    "    test_loss_save.append(test_loss)\n",
    "## Uncomment to save model\n",
    "# torch.save({'epoch': epoch + 1,\n",
    "#             'model_state_dict': model.state_dict(),\n",
    "#             'optimizer_state_dict': optimizer.state_dict(),\n",
    "#             },'VAE_LLExtraction.pth')\n"
   ]
  },
  {
   "cell_type": "code",
   "execution_count": null,
   "id": "fff08c2d",
   "metadata": {},
   "outputs": [
    {
     "data": {
      "text/plain": [
       "<matplotlib.legend.Legend at 0x1d437bd75d0>"
      ]
     },
     "execution_count": 47,
     "metadata": {},
     "output_type": "execute_result"
    },
    {
     "data": {
      "image/png": "[encoded data removed]",
      "text/plain": [
       "<Figure size 640x480 with 1 Axes>"
      ]
     },
     "metadata": {},
     "output_type": "display_data"
    }
   ],
   "source": [
    "train_mse = np.sqrt(np.array(train_loss_save))\n",
    "test_mse = np.sqrt(np.array(test_loss_save))\n",
    "plt.plot(train_mse,label=\"Train \")\n",
    "plt.plot(test_mse,label=\"Test \")\n",
    "plt.xlabel(\"Epoch\",fontsize = 15)\n",
    "plt.ylabel(\"Loss function \", fontsize = 15)\n",
    "plt.legend(loc=\"best\", fontsize = 15)\n",
    "# plt.yscale('log')"
   ]
  },
  {
   "cell_type": "code",
   "execution_count": null,
   "id": "eb6570cc",
   "metadata": {},
   "outputs": [
    {
     "data": {
      "text/plain": [
       "tensor([[ 0, 17, 28],\n",
       "        [ 1, 17, 28],\n",
       "        [ 2, 17, 58],\n",
       "        ...,\n",
       "        [ 3, 21, 38],\n",
       "        [ 0, 44, 51],\n",
       "        [ 1, 34, 51]])"
      ]
     },
     "execution_count": 44,
     "metadata": {},
     "output_type": "execute_result"
    }
   ],
   "source": [
    "sample =  X_discrete_raw[0:trainsize].to(dtype=torch.long) #  torch.tensor([[14, 30, 42]])\n",
    "with torch.no_grad():\n",
    "    # Adjust indexs for embeddings\n",
    "    f1_idx = sample[:, 0] \n",
    "    f2_idx = sample[:, 1] - 1\n",
    "    stage_idx = sample[:, 2] - 20\n",
    "    # Get embeddings\n",
    "    f1_emb = model.var1_emb(f1_idx)\n",
    "    f2_emb = model.var2_emb(f2_idx)\n",
    "    st_emb = model.var3_emb(stage_idx)\n",
    "\n",
    "    # Concatenate embeddings \n",
    "    h = torch.cat([f1_emb, f2_emb, st_emb], dim=1)\n",
    "    h_enc = model.encoder_fc(h)\n",
    "\n",
    "    mu = model.fc_mu(h_enc)\n",
    "    logvar = model.fc_logvar(h_enc)\n",
    "    z =  model.reparameterize(mu, logvar)\n",
    "\n",
    "\n",
    "\n",
    "    y_decoded = model.decoder(z)\n",
    "\n",
    "    # Spplit logits obtained from decoxder for each variable\n",
    "    f1_dec, f2_dec, st_dec = torch.chunk(y_decoded, 3 , dim=1)\n",
    "    f1_logits = model.var1_out(f1_dec)\n",
    "    f2_logits = model.var2_out(f2_dec) \n",
    "    st_logits = model.var3_out(st_dec)\n",
    "\n",
    "\n",
    "    # Get probabilities using softmax function\n",
    "    f1_probs = F.softmax(f1_logits, dim=1)\n",
    "    f2_probs = F.softmax(f2_logits, dim=1)\n",
    "    st_probs = F.softmax(st_logits, dim=1)\n",
    "\n",
    "    # Get index with the highest probabilitie and adjust thebase to recvoer true discrete value\n",
    "    f1_discrete = torch.argmax(f1_probs, dim=1)      \n",
    "    f2_discrete = torch.argmax(f2_probs, dim=1) + 1  \n",
    "    st_discrete = torch.argmax(st_probs, dim=1) + 20  \n",
    "\n",
    "# Combine to get x vector and compare with  initial data used.\n",
    "discrete_values = torch.cat([f1_discrete.unsqueeze(1), f2_discrete.unsqueeze(1),\n",
    "                            st_discrete.unsqueeze(1)], dim=1)\n",
    "discrete_values\n"
   ]
  }
 ],
 "metadata": {
  "kernelspec": {
   "display_name": "Python 3",
   "language": "python",
   "name": "python3"
  },
  "language_info": {
   "codemirror_mode": {
    "name": "ipython",
    "version": 3
   },
   "file_extension": ".py",
   "mimetype": "text/x-python",
   "name": "python",
   "nbconvert_exporter": "python",
   "pygments_lexer": "ipython3",
   "version": "3.11.1"
  }
 },
 "nbformat": 4,
 "nbformat_minor": 5
}
